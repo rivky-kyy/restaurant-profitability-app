{
 "cells": [
  {
   "cell_type": "markdown",
   "id": "57a0f968",
   "metadata": {},
   "source": [
    "# 1. Dataset Selection and Exploration "
   ]
  },
  {
   "cell_type": "code",
   "execution_count": 144,
   "id": "22e77713",
   "metadata": {},
   "outputs": [
    {
     "data": {
      "text/html": [
       "<div>\n",
       "<style scoped>\n",
       "    .dataframe tbody tr th:only-of-type {\n",
       "        vertical-align: middle;\n",
       "    }\n",
       "\n",
       "    .dataframe tbody tr th {\n",
       "        vertical-align: top;\n",
       "    }\n",
       "\n",
       "    .dataframe thead th {\n",
       "        text-align: right;\n",
       "    }\n",
       "</style>\n",
       "<table border=\"1\" class=\"dataframe\">\n",
       "  <thead>\n",
       "    <tr style=\"text-align: right;\">\n",
       "      <th></th>\n",
       "      <th>RestaurantID</th>\n",
       "      <th>MenuCategory</th>\n",
       "      <th>MenuItem</th>\n",
       "      <th>Ingredients</th>\n",
       "      <th>Price</th>\n",
       "      <th>Profitability</th>\n",
       "    </tr>\n",
       "  </thead>\n",
       "  <tbody>\n",
       "    <tr>\n",
       "      <th>0</th>\n",
       "      <td>R003</td>\n",
       "      <td>Beverages</td>\n",
       "      <td>Soda</td>\n",
       "      <td>['confidential']</td>\n",
       "      <td>2.55</td>\n",
       "      <td>Low</td>\n",
       "    </tr>\n",
       "    <tr>\n",
       "      <th>1</th>\n",
       "      <td>R001</td>\n",
       "      <td>Appetizers</td>\n",
       "      <td>Spinach Artichoke Dip</td>\n",
       "      <td>['Tomatoes', 'Basil', 'Garlic', 'Olive Oil']</td>\n",
       "      <td>11.12</td>\n",
       "      <td>Medium</td>\n",
       "    </tr>\n",
       "    <tr>\n",
       "      <th>2</th>\n",
       "      <td>R003</td>\n",
       "      <td>Desserts</td>\n",
       "      <td>New York Cheesecake</td>\n",
       "      <td>['Chocolate', 'Butter', 'Sugar', 'Eggs']</td>\n",
       "      <td>18.66</td>\n",
       "      <td>High</td>\n",
       "    </tr>\n",
       "    <tr>\n",
       "      <th>3</th>\n",
       "      <td>R003</td>\n",
       "      <td>Main Course</td>\n",
       "      <td>Chicken Alfredo</td>\n",
       "      <td>['Chicken', 'Fettuccine', 'Alfredo Sauce', 'Pa...</td>\n",
       "      <td>29.55</td>\n",
       "      <td>High</td>\n",
       "    </tr>\n",
       "    <tr>\n",
       "      <th>4</th>\n",
       "      <td>R002</td>\n",
       "      <td>Main Course</td>\n",
       "      <td>Grilled Steak</td>\n",
       "      <td>['Chicken', 'Fettuccine', 'Alfredo Sauce', 'Pa...</td>\n",
       "      <td>17.73</td>\n",
       "      <td>Medium</td>\n",
       "    </tr>\n",
       "  </tbody>\n",
       "</table>\n",
       "</div>"
      ],
      "text/plain": [
       "  RestaurantID MenuCategory               MenuItem  \\\n",
       "0         R003    Beverages                   Soda   \n",
       "1         R001   Appetizers  Spinach Artichoke Dip   \n",
       "2         R003     Desserts    New York Cheesecake   \n",
       "3         R003  Main Course        Chicken Alfredo   \n",
       "4         R002  Main Course          Grilled Steak   \n",
       "\n",
       "                                         Ingredients  Price Profitability  \n",
       "0                                   ['confidential']   2.55           Low  \n",
       "1       ['Tomatoes', 'Basil', 'Garlic', 'Olive Oil']  11.12        Medium  \n",
       "2           ['Chocolate', 'Butter', 'Sugar', 'Eggs']  18.66          High  \n",
       "3  ['Chicken', 'Fettuccine', 'Alfredo Sauce', 'Pa...  29.55          High  \n",
       "4  ['Chicken', 'Fettuccine', 'Alfredo Sauce', 'Pa...  17.73        Medium  "
      ]
     },
     "execution_count": 144,
     "metadata": {},
     "output_type": "execute_result"
    }
   ],
   "source": [
    "import pandas as pd\n",
    "import matplotlib.pyplot as plt\n",
    "import seaborn as sns\n",
    "\n",
    "# Load dataset\n",
    "df = pd.read_csv(\"restaurant_menu_optimization_data.csv\")\n",
    "\n",
    "# Strip spasi dari nama kolom (penting!)\n",
    "df.columns = df.columns.str.strip()\n",
    "\n",
    "# Tampilkan 5 baris pertama\n",
    "df.head()\n"
   ]
  },
  {
   "cell_type": "code",
   "execution_count": 145,
   "id": "e9f94ec9",
   "metadata": {},
   "outputs": [
    {
     "name": "stdout",
     "output_type": "stream",
     "text": [
      "<class 'pandas.core.frame.DataFrame'>\n",
      "RangeIndex: 1000 entries, 0 to 999\n",
      "Data columns (total 6 columns):\n",
      " #   Column         Non-Null Count  Dtype  \n",
      "---  ------         --------------  -----  \n",
      " 0   RestaurantID   1000 non-null   object \n",
      " 1   MenuCategory   1000 non-null   object \n",
      " 2   MenuItem       1000 non-null   object \n",
      " 3   Ingredients    1000 non-null   object \n",
      " 4   Price          1000 non-null   float64\n",
      " 5   Profitability  1000 non-null   object \n",
      "dtypes: float64(1), object(5)\n",
      "memory usage: 47.0+ KB\n",
      "\n",
      "Nilai unik tiap kolom:\n",
      " RestaurantID       3\n",
      "MenuCategory       4\n",
      "MenuItem          16\n",
      "Ingredients        4\n",
      "Price            767\n",
      "Profitability      3\n",
      "dtype: int64\n",
      "\n",
      "Missing values:\n",
      " RestaurantID     0\n",
      "MenuCategory     0\n",
      "MenuItem         0\n",
      "Ingredients      0\n",
      "Price            0\n",
      "Profitability    0\n",
      "dtype: int64\n"
     ]
    }
   ],
   "source": [
    "# Informasi kolom dan tipe data\n",
    "df.info()\n",
    "\n",
    "print()  # Spasi antar output\n",
    "\n",
    "# Cek jumlah nilai unik\n",
    "print(\"Nilai unik tiap kolom:\\n\", df.nunique())\n",
    "\n",
    "print()  # Spasi antar output\n",
    "\n",
    "# Cek missing values\n",
    "print(\"Missing values:\\n\", df.isnull().sum())"
   ]
  },
  {
   "cell_type": "code",
   "execution_count": 146,
   "id": "f88ecd00",
   "metadata": {},
   "outputs": [
    {
     "data": {
      "image/png": "[encoded data removed]",
      "text/plain": [
       "<Figure size 640x480 with 1 Axes>"
      ]
     },
     "metadata": {},
     "output_type": "display_data"
    },
    {
     "data": {
      "text/plain": [
       "Profitability\n",
       "Medium    0.495\n",
       "High      0.386\n",
       "Low       0.119\n",
       "Name: proportion, dtype: float64"
      ]
     },
     "execution_count": 146,
     "metadata": {},
     "output_type": "execute_result"
    }
   ],
   "source": [
    "sns.countplot(x='Profitability', data=df, order=df['Profitability'].value_counts().index)\n",
    "plt.title(\"Distribusi Profitability\")\n",
    "plt.xlabel(\"Profitability Level\")\n",
    "plt.ylabel(\"Jumlah\")\n",
    "plt.show()\n",
    "\n",
    "# Rasio per kelas\n",
    "df['Profitability'].value_counts(normalize=True)\n"
   ]
  },
  {
   "cell_type": "code",
   "execution_count": 147,
   "id": "d0f069b7",
   "metadata": {},
   "outputs": [
    {
     "data": {
      "image/png": "[encoded data removed]",
      "text/plain": [
       "<Figure size 800x500 with 1 Axes>"
      ]
     },
     "metadata": {},
     "output_type": "display_data"
    }
   ],
   "source": [
    "plt.figure(figsize=(8, 5))\n",
    "sns.histplot(df['Price'], kde=True)\n",
    "plt.title(\"Distribusi Harga Menu\")\n",
    "plt.xlabel(\"Harga\")\n",
    "plt.ylabel(\"Frekuensi\")\n",
    "plt.show()\n"
   ]
  },
  {
   "cell_type": "code",
   "execution_count": 148,
   "id": "472bab97",
   "metadata": {},
   "outputs": [
    {
     "data": {
      "image/png": "[encoded data removed]",
      "text/plain": [
       "<Figure size 640x480 with 1 Axes>"
      ]
     },
     "metadata": {},
     "output_type": "display_data"
    },
    {
     "name": "stdout",
     "output_type": "stream",
     "text": [
      "\n"
     ]
    }
   ],
   "source": [
    "sns.countplot(y='MenuCategory', data=df, order=df['MenuCategory'].value_counts().index)\n",
    "plt.title(\"Jumlah Menu per Kategori\")\n",
    "plt.xlabel(\"Jumlah\")\n",
    "plt.ylabel(\"Menu Category\")\n",
    "plt.show()\n",
    "\n",
    "print()  # Spasi 1 baris agar output lebih rapi\n"
   ]
  },
  {
   "cell_type": "markdown",
   "id": "d0e6be7a",
   "metadata": {},
   "source": [
    "# 2. Data Preprocessing "
   ]
  },
  {
   "cell_type": "code",
   "execution_count": 149,
   "id": "bfd3ccab",
   "metadata": {},
   "outputs": [
    {
     "name": "stdout",
     "output_type": "stream",
     "text": [
      "Missing values:\n",
      " RestaurantID     0\n",
      "MenuCategory     0\n",
      "Price            0\n",
      "Profitability    0\n",
      "dtype: int64\n"
     ]
    }
   ],
   "source": [
    "# Pilih hanya kolom yang akan digunakan\n",
    "df = df[['RestaurantID', 'MenuCategory', 'Price', 'Profitability']]\n",
    "\n",
    "# Cek dan bersihkan data kosong\n",
    "print(\"Missing values:\\n\", df.isnull().sum())\n",
    "df.dropna(inplace=True)  # Hapus baris dengan missing value\n",
    "\n"
   ]
  },
  {
   "cell_type": "code",
   "execution_count": 150,
   "id": "90b8217d",
   "metadata": {},
   "outputs": [
    {
     "name": "stdout",
     "output_type": "stream",
     "text": [
      "High → 0\n",
      "Low → 1\n",
      "Medium → 2\n"
     ]
    }
   ],
   "source": [
    "from sklearn.preprocessing import LabelEncoder\n",
    "\n",
    "# LabelEncoder untuk fitur kategori\n",
    "le_restaurant = LabelEncoder()\n",
    "le_category = LabelEncoder()\n",
    "le_profit = LabelEncoder()\n",
    "\n",
    "df['restaurantid_encoded'] = le_restaurant.fit_transform(df['RestaurantID'])\n",
    "df['menucategory_encoded'] = le_category.fit_transform(df['MenuCategory'])\n",
    "df['Profitability_encoded'] = le_profit.fit_transform(df['Profitability'])\n",
    "\n",
    "# Cek mapping label target\n",
    "for cls, code in zip(le_profit.classes_, le_profit.transform(le_profit.classes_)):\n",
    "    print(f\"{cls} → {code}\")\n"
   ]
  },
  {
   "cell_type": "code",
   "execution_count": 151,
   "id": "c1a90624",
   "metadata": {},
   "outputs": [],
   "source": [
    "# Fitur (X)\n",
    "X = df[['restaurantid_encoded', 'menucategory_encoded', 'Price']]\n",
    "\n",
    "# Target (y)\n",
    "y = df['Profitability_encoded']\n",
    "\n"
   ]
  },
  {
   "cell_type": "code",
   "execution_count": 152,
   "id": "58abe8b1",
   "metadata": {},
   "outputs": [],
   "source": [
    "from sklearn.model_selection import train_test_split\n",
    "\n",
    "X_train, X_test, y_train, y_test = train_test_split(\n",
    "    X, y,\n",
    "    test_size=0.2,\n",
    "    stratify=y,\n",
    "    random_state=42\n",
    ")\n"
   ]
  },
  {
   "cell_type": "code",
   "execution_count": 153,
   "id": "2ac64628",
   "metadata": {},
   "outputs": [
    {
     "name": "stdout",
     "output_type": "stream",
     "text": [
      "Contoh data X_train:\n",
      "     restaurantid_encoded  menucategory_encoded  Price\n",
      "441                     2                     1   2.85\n",
      "955                     2                     0   8.54\n",
      "98                      2                     0  13.67\n",
      "36                      0                     2  11.11\n",
      "887                     0                     3  18.24\n",
      "\n",
      "Distribusi y_train:\n",
      "Profitability_encoded\n",
      "2    0.49500\n",
      "0    0.38625\n",
      "1    0.11875\n",
      "Name: proportion, dtype: float64\n"
     ]
    }
   ],
   "source": [
    "# Cek data hasil preprocessing\n",
    "print(\"Contoh data X_train:\")\n",
    "print(X_train.head())\n",
    "\n",
    "print(\"\\nDistribusi y_train:\")\n",
    "print(y_train.value_counts(normalize=True))\n"
   ]
  },
  {
   "cell_type": "markdown",
   "id": "9c46ef11",
   "metadata": {},
   "source": [
    "# 3. Model Training and Comparison"
   ]
  },
  {
   "cell_type": "markdown",
   "id": "e99c53f6",
   "metadata": {},
   "source": [
    "## 6 Model "
   ]
  },
  {
   "cell_type": "code",
   "execution_count": 154,
   "id": "51560049",
   "metadata": {},
   "outputs": [],
   "source": [
    "from sklearn.linear_model import LogisticRegression\n",
    "from sklearn.tree import DecisionTreeClassifier\n",
    "from sklearn.svm import SVC\n",
    "from sklearn.neighbors import KNeighborsClassifier\n",
    "from sklearn.naive_bayes import GaussianNB\n",
    "from sklearn.neural_network import MLPClassifier\n",
    "\n",
    "from sklearn.metrics import accuracy_score, classification_report, confusion_matrix\n",
    "\n",
    "# Inisialisasi model\n",
    "models = {\n",
    "    'Logistic Regression': LogisticRegression(max_iter=1000, random_state=42),\n",
    "    'Decision Tree': DecisionTreeClassifier(random_state=42),\n",
    "    'SVM': SVC(kernel='rbf', random_state=42),\n",
    "    'KNN': KNeighborsClassifier(n_neighbors=5),\n",
    "    'Naive Bayes': GaussianNB(),\n",
    "    'ANN (MLPClassifier)': MLPClassifier(hidden_layer_sizes=(100,), max_iter=500, random_state=42)\n",
    "}\n",
    "\n"
   ]
  },
  {
   "cell_type": "code",
   "execution_count": 155,
   "id": "ddb66db0",
   "metadata": {},
   "outputs": [
    {
     "data": {
      "text/html": [
       "<div>\n",
       "<style scoped>\n",
       "    .dataframe tbody tr th:only-of-type {\n",
       "        vertical-align: middle;\n",
       "    }\n",
       "\n",
       "    .dataframe tbody tr th {\n",
       "        vertical-align: top;\n",
       "    }\n",
       "\n",
       "    .dataframe thead th {\n",
       "        text-align: right;\n",
       "    }\n",
       "</style>\n",
       "<table border=\"1\" class=\"dataframe\">\n",
       "  <thead>\n",
       "    <tr style=\"text-align: right;\">\n",
       "      <th></th>\n",
       "      <th>Model</th>\n",
       "      <th>Accuracy</th>\n",
       "      <th>Precision</th>\n",
       "      <th>Recall</th>\n",
       "      <th>F1-Score</th>\n",
       "    </tr>\n",
       "  </thead>\n",
       "  <tbody>\n",
       "    <tr>\n",
       "      <th>1</th>\n",
       "      <td>KNN</td>\n",
       "      <td>0.920</td>\n",
       "      <td>0.923400</td>\n",
       "      <td>0.850469</td>\n",
       "      <td>0.875559</td>\n",
       "    </tr>\n",
       "    <tr>\n",
       "      <th>2</th>\n",
       "      <td>ANN</td>\n",
       "      <td>0.915</td>\n",
       "      <td>0.920503</td>\n",
       "      <td>0.845178</td>\n",
       "      <td>0.872047</td>\n",
       "    </tr>\n",
       "    <tr>\n",
       "      <th>0</th>\n",
       "      <td>Decision Tree</td>\n",
       "      <td>0.870</td>\n",
       "      <td>0.851912</td>\n",
       "      <td>0.816739</td>\n",
       "      <td>0.831839</td>\n",
       "    </tr>\n",
       "  </tbody>\n",
       "</table>\n",
       "</div>"
      ],
      "text/plain": [
       "           Model  Accuracy  Precision    Recall  F1-Score\n",
       "1            KNN     0.920   0.923400  0.850469  0.875559\n",
       "2            ANN     0.915   0.920503  0.845178  0.872047\n",
       "0  Decision Tree     0.870   0.851912  0.816739  0.831839"
      ]
     },
     "metadata": {},
     "output_type": "display_data"
    }
   ],
   "source": [
    "# Evaluasi setiap model\n",
    "results_df.sort_values(by='Accuracy', ascending=False, inplace=True)\n",
    "display(results_df)\n"
   ]
  },
  {
   "cell_type": "markdown",
   "id": "f40c7ec3",
   "metadata": {},
   "source": [
    "## 3 Model"
   ]
  },
  {
   "cell_type": "code",
   "execution_count": 156,
   "id": "083b9a64",
   "metadata": {},
   "outputs": [
    {
     "name": "stdout",
     "output_type": "stream",
     "text": [
      "=== Decision Tree ===\n",
      "              precision    recall  f1-score   support\n",
      "\n",
      "           0       0.88      0.84      0.86        77\n",
      "           1       0.80      0.67      0.73        24\n",
      "           2       0.88      0.94      0.91        99\n",
      "\n",
      "    accuracy                           0.87       200\n",
      "   macro avg       0.85      0.82      0.83       200\n",
      "weighted avg       0.87      0.87      0.87       200\n",
      "\n",
      "=== KNN ===\n",
      "              precision    recall  f1-score   support\n",
      "\n",
      "           0       0.88      0.99      0.93        77\n",
      "           1       0.94      0.62      0.75        24\n",
      "           2       0.95      0.94      0.94        99\n",
      "\n",
      "    accuracy                           0.92       200\n",
      "   macro avg       0.92      0.85      0.88       200\n",
      "weighted avg       0.92      0.92      0.92       200\n",
      "\n",
      "=== ANN ===\n",
      "              precision    recall  f1-score   support\n",
      "\n",
      "           0       0.90      0.96      0.93        77\n",
      "           1       0.94      0.62      0.75        24\n",
      "           2       0.92      0.95      0.94        99\n",
      "\n",
      "    accuracy                           0.92       200\n",
      "   macro avg       0.92      0.85      0.87       200\n",
      "weighted avg       0.92      0.92      0.91       200\n",
      "\n"
     ]
    },
    {
     "name": "stderr",
     "output_type": "stream",
     "text": [
      "c:\\Users\\Lenovo\\AppData\\Local\\Programs\\Python\\Python311\\Lib\\site-packages\\sklearn\\neural_network\\_multilayer_perceptron.py:691: ConvergenceWarning: Stochastic Optimizer: Maximum iterations (500) reached and the optimization hasn't converged yet.\n",
      "  warnings.warn(\n"
     ]
    }
   ],
   "source": [
    "from sklearn.metrics import accuracy_score, precision_score, recall_score, f1_score, classification_report\n",
    "from sklearn.tree import DecisionTreeClassifier\n",
    "from sklearn.neighbors import KNeighborsClassifier\n",
    "from sklearn.neural_network import MLPClassifier\n",
    "\n",
    "# Inisialisasi model default\n",
    "models = {\n",
    "    \"Decision Tree\": DecisionTreeClassifier(random_state=42),\n",
    "    \"KNN\": KNeighborsClassifier(),\n",
    "    \"ANN\": MLPClassifier(random_state=42, max_iter=500)\n",
    "}\n",
    "\n",
    "# Simpan hasil evaluasi\n",
    "eval_results = []\n",
    "\n",
    "# Loop model\n",
    "for name, model in models.items():\n",
    "    model.fit(X_train, y_train)\n",
    "    y_pred = model.predict(X_test)\n",
    "\n",
    "    acc = accuracy_score(y_test, y_pred)\n",
    "    prec = precision_score(y_test, y_pred, average='macro')\n",
    "    rec = recall_score(y_test, y_pred, average='macro')\n",
    "    f1 = f1_score(y_test, y_pred, average='macro')\n",
    "\n",
    "    print(f\"=== {name} ===\")\n",
    "    print(classification_report(y_test, y_pred))\n",
    "    \n",
    "    eval_results.append({\n",
    "        \"Model\": name,\n",
    "        \"Accuracy\": acc,\n",
    "        \"Precision\": prec,\n",
    "        \"Recall\": rec,\n",
    "        \"F1-Score\": f1\n",
    "    })\n"
   ]
  },
  {
   "cell_type": "code",
   "execution_count": 157,
   "id": "2c37f2d9",
   "metadata": {},
   "outputs": [
    {
     "data": {
      "image/png": "[encoded data removed]",
      "text/plain": [
       "<Figure size 1000x600 with 1 Axes>"
      ]
     },
     "metadata": {},
     "output_type": "display_data"
    }
   ],
   "source": [
    "import pandas as pd\n",
    "import seaborn as sns\n",
    "import matplotlib.pyplot as plt\n",
    "\n",
    "# Buat DataFrame dari hasil evaluasi\n",
    "results_df = pd.DataFrame(eval_results)\n",
    "\n",
    "# Visualisasi\n",
    "plt.figure(figsize=(10,6))\n",
    "sns.barplot(data=results_df.melt(id_vars=\"Model\"), x=\"variable\", y=\"value\", hue=\"Model\")\n",
    "plt.title(\"Perbandingan Performansi Model\")\n",
    "plt.ylabel(\"Skor\")\n",
    "plt.xlabel(\"Metric\")\n",
    "plt.ylim(0, 1)\n",
    "plt.legend(title=\"Model\")\n",
    "plt.tight_layout()\n",
    "plt.show()\n"
   ]
  },
  {
   "cell_type": "markdown",
   "id": "357d4a78",
   "metadata": {},
   "source": [
    "### Tuning Decision Tree"
   ]
  },
  {
   "cell_type": "code",
   "execution_count": 158,
   "id": "81e2bee4",
   "metadata": {},
   "outputs": [
    {
     "name": "stdout",
     "output_type": "stream",
     "text": [
      "Best Decision Tree Params: {'max_depth': 5, 'min_samples_split': 2}\n"
     ]
    }
   ],
   "source": [
    "from sklearn.model_selection import GridSearchCV\n",
    "\n",
    "dt_params = {\n",
    "    'max_depth': [3, 5, 10, None],\n",
    "    'min_samples_split': [2, 3, 1199]\n",
    "}\n",
    "\n",
    "dt_grid = GridSearchCV(DecisionTreeClassifier(random_state=42), dt_params, cv=5, scoring='accuracy')\n",
    "dt_grid.fit(X_train, y_train)\n",
    "\n",
    "print(\"Best Decision Tree Params:\", dt_grid.best_params_)\n"
   ]
  },
  {
   "cell_type": "markdown",
   "id": "a7d8c8c5",
   "metadata": {},
   "source": [
    "### Tuning KNN"
   ]
  },
  {
   "cell_type": "code",
   "execution_count": 159,
   "id": "3bed6647",
   "metadata": {},
   "outputs": [
    {
     "name": "stdout",
     "output_type": "stream",
     "text": [
      "Best KNN Params: {'n_neighbors': 30, 'weights': 'distance'}\n"
     ]
    }
   ],
   "source": [
    "knn_params = {\n",
    "    'n_neighbors': [30, 50, 70, 90],\n",
    "    'weights': ['uniform', 'distance']\n",
    "}\n",
    "\n",
    "knn_grid = GridSearchCV(KNeighborsClassifier(), knn_params, cv=5, scoring='accuracy')\n",
    "knn_grid.fit(X_train, y_train)\n",
    "\n",
    "print(\"Best KNN Params:\", knn_grid.best_params_)\n"
   ]
  },
  {
   "cell_type": "markdown",
   "id": "cfbd8fd4",
   "metadata": {},
   "source": [
    "### Tuning ANN"
   ]
  },
  {
   "cell_type": "code",
   "execution_count": 160,
   "id": "2a7eb76f",
   "metadata": {},
   "outputs": [
    {
     "name": "stderr",
     "output_type": "stream",
     "text": [
      "c:\\Users\\Lenovo\\AppData\\Local\\Programs\\Python\\Python311\\Lib\\site-packages\\sklearn\\neural_network\\_multilayer_perceptron.py:691: ConvergenceWarning: Stochastic Optimizer: Maximum iterations (500) reached and the optimization hasn't converged yet.\n",
      "  warnings.warn(\n",
      "c:\\Users\\Lenovo\\AppData\\Local\\Programs\\Python\\Python311\\Lib\\site-packages\\sklearn\\neural_network\\_multilayer_perceptron.py:691: ConvergenceWarning: Stochastic Optimizer: Maximum iterations (500) reached and the optimization hasn't converged yet.\n",
      "  warnings.warn(\n",
      "c:\\Users\\Lenovo\\AppData\\Local\\Programs\\Python\\Python311\\Lib\\site-packages\\sklearn\\neural_network\\_multilayer_perceptron.py:691: ConvergenceWarning: Stochastic Optimizer: Maximum iterations (500) reached and the optimization hasn't converged yet.\n",
      "  warnings.warn(\n",
      "c:\\Users\\Lenovo\\AppData\\Local\\Programs\\Python\\Python311\\Lib\\site-packages\\sklearn\\neural_network\\_multilayer_perceptron.py:691: ConvergenceWarning: Stochastic Optimizer: Maximum iterations (500) reached and the optimization hasn't converged yet.\n",
      "  warnings.warn(\n",
      "c:\\Users\\Lenovo\\AppData\\Local\\Programs\\Python\\Python311\\Lib\\site-packages\\sklearn\\neural_network\\_multilayer_perceptron.py:691: ConvergenceWarning: Stochastic Optimizer: Maximum iterations (500) reached and the optimization hasn't converged yet.\n",
      "  warnings.warn(\n",
      "c:\\Users\\Lenovo\\AppData\\Local\\Programs\\Python\\Python311\\Lib\\site-packages\\sklearn\\neural_network\\_multilayer_perceptron.py:691: ConvergenceWarning: Stochastic Optimizer: Maximum iterations (500) reached and the optimization hasn't converged yet.\n",
      "  warnings.warn(\n",
      "c:\\Users\\Lenovo\\AppData\\Local\\Programs\\Python\\Python311\\Lib\\site-packages\\sklearn\\neural_network\\_multilayer_perceptron.py:691: ConvergenceWarning: Stochastic Optimizer: Maximum iterations (500) reached and the optimization hasn't converged yet.\n",
      "  warnings.warn(\n",
      "c:\\Users\\Lenovo\\AppData\\Local\\Programs\\Python\\Python311\\Lib\\site-packages\\sklearn\\neural_network\\_multilayer_perceptron.py:691: ConvergenceWarning: Stochastic Optimizer: Maximum iterations (500) reached and the optimization hasn't converged yet.\n",
      "  warnings.warn(\n",
      "c:\\Users\\Lenovo\\AppData\\Local\\Programs\\Python\\Python311\\Lib\\site-packages\\sklearn\\neural_network\\_multilayer_perceptron.py:691: ConvergenceWarning: Stochastic Optimizer: Maximum iterations (500) reached and the optimization hasn't converged yet.\n",
      "  warnings.warn(\n",
      "c:\\Users\\Lenovo\\AppData\\Local\\Programs\\Python\\Python311\\Lib\\site-packages\\sklearn\\neural_network\\_multilayer_perceptron.py:691: ConvergenceWarning: Stochastic Optimizer: Maximum iterations (500) reached and the optimization hasn't converged yet.\n",
      "  warnings.warn(\n",
      "c:\\Users\\Lenovo\\AppData\\Local\\Programs\\Python\\Python311\\Lib\\site-packages\\sklearn\\neural_network\\_multilayer_perceptron.py:691: ConvergenceWarning: Stochastic Optimizer: Maximum iterations (500) reached and the optimization hasn't converged yet.\n",
      "  warnings.warn(\n",
      "c:\\Users\\Lenovo\\AppData\\Local\\Programs\\Python\\Python311\\Lib\\site-packages\\sklearn\\neural_network\\_multilayer_perceptron.py:691: ConvergenceWarning: Stochastic Optimizer: Maximum iterations (500) reached and the optimization hasn't converged yet.\n",
      "  warnings.warn(\n",
      "c:\\Users\\Lenovo\\AppData\\Local\\Programs\\Python\\Python311\\Lib\\site-packages\\sklearn\\neural_network\\_multilayer_perceptron.py:691: ConvergenceWarning: Stochastic Optimizer: Maximum iterations (500) reached and the optimization hasn't converged yet.\n",
      "  warnings.warn(\n",
      "c:\\Users\\Lenovo\\AppData\\Local\\Programs\\Python\\Python311\\Lib\\site-packages\\sklearn\\neural_network\\_multilayer_perceptron.py:691: ConvergenceWarning: Stochastic Optimizer: Maximum iterations (500) reached and the optimization hasn't converged yet.\n",
      "  warnings.warn(\n",
      "c:\\Users\\Lenovo\\AppData\\Local\\Programs\\Python\\Python311\\Lib\\site-packages\\sklearn\\neural_network\\_multilayer_perceptron.py:691: ConvergenceWarning: Stochastic Optimizer: Maximum iterations (500) reached and the optimization hasn't converged yet.\n",
      "  warnings.warn(\n",
      "c:\\Users\\Lenovo\\AppData\\Local\\Programs\\Python\\Python311\\Lib\\site-packages\\sklearn\\neural_network\\_multilayer_perceptron.py:691: ConvergenceWarning: Stochastic Optimizer: Maximum iterations (500) reached and the optimization hasn't converged yet.\n",
      "  warnings.warn(\n",
      "c:\\Users\\Lenovo\\AppData\\Local\\Programs\\Python\\Python311\\Lib\\site-packages\\sklearn\\neural_network\\_multilayer_perceptron.py:691: ConvergenceWarning: Stochastic Optimizer: Maximum iterations (500) reached and the optimization hasn't converged yet.\n",
      "  warnings.warn(\n",
      "c:\\Users\\Lenovo\\AppData\\Local\\Programs\\Python\\Python311\\Lib\\site-packages\\sklearn\\neural_network\\_multilayer_perceptron.py:691: ConvergenceWarning: Stochastic Optimizer: Maximum iterations (500) reached and the optimization hasn't converged yet.\n",
      "  warnings.warn(\n",
      "c:\\Users\\Lenovo\\AppData\\Local\\Programs\\Python\\Python311\\Lib\\site-packages\\sklearn\\neural_network\\_multilayer_perceptron.py:691: ConvergenceWarning: Stochastic Optimizer: Maximum iterations (500) reached and the optimization hasn't converged yet.\n",
      "  warnings.warn(\n"
     ]
    },
    {
     "name": "stdout",
     "output_type": "stream",
     "text": [
      "Best ANN Params: {'activation': 'relu', 'hidden_layer_sizes': (50,), 'solver': 'adam'}\n"
     ]
    },
    {
     "name": "stderr",
     "output_type": "stream",
     "text": [
      "c:\\Users\\Lenovo\\AppData\\Local\\Programs\\Python\\Python311\\Lib\\site-packages\\sklearn\\neural_network\\_multilayer_perceptron.py:691: ConvergenceWarning: Stochastic Optimizer: Maximum iterations (500) reached and the optimization hasn't converged yet.\n",
      "  warnings.warn(\n"
     ]
    }
   ],
   "source": [
    "ann_params = {\n",
    "    'hidden_layer_sizes': [(50,), (100,), (100, 50)],\n",
    "    'activation': ['relu', 'tanh'],\n",
    "    'solver': ['adam', 'sgd']\n",
    "}\n",
    "\n",
    "ann_grid = GridSearchCV(MLPClassifier(max_iter=500, random_state=42), ann_params, cv=5, scoring='accuracy')\n",
    "ann_grid.fit(X_train, y_train)\n",
    "\n",
    "print(\"Best ANN Params:\", ann_grid.best_params_)\n"
   ]
  },
  {
   "cell_type": "code",
   "execution_count": 161,
   "id": "15e69a00",
   "metadata": {},
   "outputs": [
    {
     "name": "stdout",
     "output_type": "stream",
     "text": [
      "Decision Tree Cross-Validation Accuracy: 0.9120 ± 0.0246\n",
      "KNN Cross-Validation Accuracy: 0.9020 ± 0.0163\n"
     ]
    },
    {
     "name": "stderr",
     "output_type": "stream",
     "text": [
      "c:\\Users\\Lenovo\\AppData\\Local\\Programs\\Python\\Python311\\Lib\\site-packages\\sklearn\\neural_network\\_multilayer_perceptron.py:691: ConvergenceWarning: Stochastic Optimizer: Maximum iterations (500) reached and the optimization hasn't converged yet.\n",
      "  warnings.warn(\n",
      "c:\\Users\\Lenovo\\AppData\\Local\\Programs\\Python\\Python311\\Lib\\site-packages\\sklearn\\neural_network\\_multilayer_perceptron.py:691: ConvergenceWarning: Stochastic Optimizer: Maximum iterations (500) reached and the optimization hasn't converged yet.\n",
      "  warnings.warn(\n",
      "c:\\Users\\Lenovo\\AppData\\Local\\Programs\\Python\\Python311\\Lib\\site-packages\\sklearn\\neural_network\\_multilayer_perceptron.py:691: ConvergenceWarning: Stochastic Optimizer: Maximum iterations (500) reached and the optimization hasn't converged yet.\n",
      "  warnings.warn(\n",
      "c:\\Users\\Lenovo\\AppData\\Local\\Programs\\Python\\Python311\\Lib\\site-packages\\sklearn\\neural_network\\_multilayer_perceptron.py:691: ConvergenceWarning: Stochastic Optimizer: Maximum iterations (500) reached and the optimization hasn't converged yet.\n",
      "  warnings.warn(\n"
     ]
    },
    {
     "name": "stdout",
     "output_type": "stream",
     "text": [
      "ANN Cross-Validation Accuracy: 0.9060 ± 0.0222\n"
     ]
    },
    {
     "name": "stderr",
     "output_type": "stream",
     "text": [
      "c:\\Users\\Lenovo\\AppData\\Local\\Programs\\Python\\Python311\\Lib\\site-packages\\sklearn\\neural_network\\_multilayer_perceptron.py:691: ConvergenceWarning: Stochastic Optimizer: Maximum iterations (500) reached and the optimization hasn't converged yet.\n",
      "  warnings.warn(\n"
     ]
    }
   ],
   "source": [
    "from sklearn.model_selection import cross_val_score\n",
    "\n",
    "# Gunakan best estimator dari hasil GridSearch\n",
    "for name, model in zip(\n",
    "    [\"Decision Tree\", \"KNN\", \"ANN\"],\n",
    "    [dt_grid.best_estimator_, knn_grid.best_estimator_, ann_grid.best_estimator_]\n",
    "):\n",
    "    scores = cross_val_score(model, X, y, cv=5, scoring='accuracy')\n",
    "    print(f\"{name} Cross-Validation Accuracy: {scores.mean():.4f} ± {scores.std():.4f}\")\n"
   ]
  },
  {
   "cell_type": "code",
   "execution_count": 162,
   "id": "9e25e215",
   "metadata": {},
   "outputs": [
    {
     "name": "stderr",
     "output_type": "stream",
     "text": [
      "c:\\Users\\Lenovo\\AppData\\Local\\Programs\\Python\\Python311\\Lib\\site-packages\\sklearn\\neural_network\\_multilayer_perceptron.py:691: ConvergenceWarning: Stochastic Optimizer: Maximum iterations (500) reached and the optimization hasn't converged yet.\n",
      "  warnings.warn(\n"
     ]
    },
    {
     "data": {
      "text/html": [
       "<div>\n",
       "<style scoped>\n",
       "    .dataframe tbody tr th:only-of-type {\n",
       "        vertical-align: middle;\n",
       "    }\n",
       "\n",
       "    .dataframe tbody tr th {\n",
       "        vertical-align: top;\n",
       "    }\n",
       "\n",
       "    .dataframe thead th {\n",
       "        text-align: right;\n",
       "    }\n",
       "</style>\n",
       "<table border=\"1\" class=\"dataframe\">\n",
       "  <thead>\n",
       "    <tr style=\"text-align: right;\">\n",
       "      <th></th>\n",
       "      <th>Model</th>\n",
       "      <th>Accuracy</th>\n",
       "      <th>Precision</th>\n",
       "      <th>Recall</th>\n",
       "      <th>F1-Score</th>\n",
       "    </tr>\n",
       "  </thead>\n",
       "  <tbody>\n",
       "    <tr>\n",
       "      <th>1</th>\n",
       "      <td>KNN</td>\n",
       "      <td>0.920</td>\n",
       "      <td>0.923400</td>\n",
       "      <td>0.850469</td>\n",
       "      <td>0.875559</td>\n",
       "    </tr>\n",
       "    <tr>\n",
       "      <th>2</th>\n",
       "      <td>ANN</td>\n",
       "      <td>0.915</td>\n",
       "      <td>0.920503</td>\n",
       "      <td>0.845178</td>\n",
       "      <td>0.872047</td>\n",
       "    </tr>\n",
       "    <tr>\n",
       "      <th>0</th>\n",
       "      <td>Decision Tree</td>\n",
       "      <td>0.870</td>\n",
       "      <td>0.851912</td>\n",
       "      <td>0.816739</td>\n",
       "      <td>0.831839</td>\n",
       "    </tr>\n",
       "  </tbody>\n",
       "</table>\n",
       "</div>"
      ],
      "text/plain": [
       "           Model  Accuracy  Precision    Recall  F1-Score\n",
       "1            KNN     0.920   0.923400  0.850469  0.875559\n",
       "2            ANN     0.915   0.920503  0.845178  0.872047\n",
       "0  Decision Tree     0.870   0.851912  0.816739  0.831839"
      ]
     },
     "metadata": {},
     "output_type": "display_data"
    }
   ],
   "source": [
    "# Contoh hasil evaluasi otomatis dari loop\n",
    "eval_results = []\n",
    "\n",
    "for name, model in models.items():\n",
    "    model.fit(X_train, y_train)\n",
    "    y_pred = model.predict(X_test)\n",
    "\n",
    "    acc = accuracy_score(y_test, y_pred)\n",
    "    prec = precision_score(y_test, y_pred, average='macro')\n",
    "    rec = recall_score(y_test, y_pred, average='macro')\n",
    "    f1 = f1_score(y_test, y_pred, average='macro')\n",
    "\n",
    "    eval_results.append({\n",
    "        \"Model\": name,\n",
    "        \"Accuracy\": acc,\n",
    "        \"Precision\": prec,\n",
    "        \"Recall\": rec,\n",
    "        \"F1-Score\": f1\n",
    "    })\n",
    "\n",
    "# Langsung ubah jadi DataFrame\n",
    "results_df = pd.DataFrame(eval_results)\n",
    "\n",
    "# Tampilkan tabel rapi\n",
    "display(results_df.sort_values(by=\"Accuracy\", ascending=False))\n"
   ]
  },
  {
   "cell_type": "code",
   "execution_count": 163,
   "id": "0a5bbafa",
   "metadata": {},
   "outputs": [
    {
     "data": {
      "text/html": [
       "<div>\n",
       "<style scoped>\n",
       "    .dataframe tbody tr th:only-of-type {\n",
       "        vertical-align: middle;\n",
       "    }\n",
       "\n",
       "    .dataframe tbody tr th {\n",
       "        vertical-align: top;\n",
       "    }\n",
       "\n",
       "    .dataframe thead th {\n",
       "        text-align: right;\n",
       "    }\n",
       "</style>\n",
       "<table border=\"1\" class=\"dataframe\">\n",
       "  <thead>\n",
       "    <tr style=\"text-align: right;\">\n",
       "      <th></th>\n",
       "      <th>Model</th>\n",
       "      <th>Best Params</th>\n",
       "    </tr>\n",
       "  </thead>\n",
       "  <tbody>\n",
       "    <tr>\n",
       "      <th>0</th>\n",
       "      <td>Decision Tree</td>\n",
       "      <td>{'max_depth': 5, 'min_samples_split': 2}</td>\n",
       "    </tr>\n",
       "    <tr>\n",
       "      <th>1</th>\n",
       "      <td>KNN</td>\n",
       "      <td>{'n_neighbors': 30, 'weights': 'distance'}</td>\n",
       "    </tr>\n",
       "    <tr>\n",
       "      <th>2</th>\n",
       "      <td>ANN</td>\n",
       "      <td>{'activation': 'relu', 'hidden_layer_sizes': (...</td>\n",
       "    </tr>\n",
       "  </tbody>\n",
       "</table>\n",
       "</div>"
      ],
      "text/plain": [
       "           Model                                        Best Params\n",
       "0  Decision Tree           {'max_depth': 5, 'min_samples_split': 2}\n",
       "1            KNN         {'n_neighbors': 30, 'weights': 'distance'}\n",
       "2            ANN  {'activation': 'relu', 'hidden_layer_sizes': (..."
      ]
     },
     "metadata": {},
     "output_type": "display_data"
    }
   ],
   "source": [
    "dt_best = dt_grid.best_params_\n",
    "knn_best = knn_grid.best_params_\n",
    "ann_best = ann_grid.best_params_\n",
    "\n",
    "param_df = pd.DataFrame([\n",
    "    {\"Model\": \"Decision Tree\", \"Best Params\": dt_best},\n",
    "    {\"Model\": \"KNN\", \"Best Params\": knn_best},\n",
    "    {\"Model\": \"ANN\", \"Best Params\": ann_best}\n",
    "])\n",
    "\n",
    "display(param_df)\n"
   ]
  },
  {
   "cell_type": "code",
   "execution_count": 164,
   "id": "e2ca271e",
   "metadata": {},
   "outputs": [
    {
     "name": "stderr",
     "output_type": "stream",
     "text": [
      "c:\\Users\\Lenovo\\AppData\\Local\\Programs\\Python\\Python311\\Lib\\site-packages\\sklearn\\neural_network\\_multilayer_perceptron.py:691: ConvergenceWarning: Stochastic Optimizer: Maximum iterations (500) reached and the optimization hasn't converged yet.\n",
      "  warnings.warn(\n",
      "c:\\Users\\Lenovo\\AppData\\Local\\Programs\\Python\\Python311\\Lib\\site-packages\\sklearn\\neural_network\\_multilayer_perceptron.py:691: ConvergenceWarning: Stochastic Optimizer: Maximum iterations (500) reached and the optimization hasn't converged yet.\n",
      "  warnings.warn(\n",
      "c:\\Users\\Lenovo\\AppData\\Local\\Programs\\Python\\Python311\\Lib\\site-packages\\sklearn\\neural_network\\_multilayer_perceptron.py:691: ConvergenceWarning: Stochastic Optimizer: Maximum iterations (500) reached and the optimization hasn't converged yet.\n",
      "  warnings.warn(\n",
      "c:\\Users\\Lenovo\\AppData\\Local\\Programs\\Python\\Python311\\Lib\\site-packages\\sklearn\\neural_network\\_multilayer_perceptron.py:691: ConvergenceWarning: Stochastic Optimizer: Maximum iterations (500) reached and the optimization hasn't converged yet.\n",
      "  warnings.warn(\n",
      "c:\\Users\\Lenovo\\AppData\\Local\\Programs\\Python\\Python311\\Lib\\site-packages\\sklearn\\neural_network\\_multilayer_perceptron.py:691: ConvergenceWarning: Stochastic Optimizer: Maximum iterations (500) reached and the optimization hasn't converged yet.\n",
      "  warnings.warn(\n"
     ]
    },
    {
     "data": {
      "text/html": [
       "<div>\n",
       "<style scoped>\n",
       "    .dataframe tbody tr th:only-of-type {\n",
       "        vertical-align: middle;\n",
       "    }\n",
       "\n",
       "    .dataframe tbody tr th {\n",
       "        vertical-align: top;\n",
       "    }\n",
       "\n",
       "    .dataframe thead th {\n",
       "        text-align: right;\n",
       "    }\n",
       "</style>\n",
       "<table border=\"1\" class=\"dataframe\">\n",
       "  <thead>\n",
       "    <tr style=\"text-align: right;\">\n",
       "      <th></th>\n",
       "      <th>Model</th>\n",
       "      <th>CV Mean Accuracy</th>\n",
       "      <th>CV Std Dev</th>\n",
       "    </tr>\n",
       "  </thead>\n",
       "  <tbody>\n",
       "    <tr>\n",
       "      <th>0</th>\n",
       "      <td>Decision Tree</td>\n",
       "      <td>0.912</td>\n",
       "      <td>0.024617</td>\n",
       "    </tr>\n",
       "    <tr>\n",
       "      <th>1</th>\n",
       "      <td>KNN</td>\n",
       "      <td>0.902</td>\n",
       "      <td>0.016310</td>\n",
       "    </tr>\n",
       "    <tr>\n",
       "      <th>2</th>\n",
       "      <td>ANN</td>\n",
       "      <td>0.906</td>\n",
       "      <td>0.022226</td>\n",
       "    </tr>\n",
       "  </tbody>\n",
       "</table>\n",
       "</div>"
      ],
      "text/plain": [
       "           Model  CV Mean Accuracy  CV Std Dev\n",
       "0  Decision Tree             0.912    0.024617\n",
       "1            KNN             0.902    0.016310\n",
       "2            ANN             0.906    0.022226"
      ]
     },
     "metadata": {},
     "output_type": "display_data"
    }
   ],
   "source": [
    "from sklearn.model_selection import cross_val_score\n",
    "\n",
    "cv_scores = []\n",
    "for name, model in [\n",
    "    (\"Decision Tree\", dt_grid.best_estimator_),\n",
    "    (\"KNN\", knn_grid.best_estimator_),\n",
    "    (\"ANN\", ann_grid.best_estimator_)\n",
    "]:\n",
    "    scores = cross_val_score(model, X, y, cv=5, scoring='accuracy')\n",
    "    cv_scores.append({\n",
    "        \"Model\": name,\n",
    "        \"CV Mean Accuracy\": scores.mean(),\n",
    "        \"CV Std Dev\": scores.std()\n",
    "    })\n",
    "\n",
    "cv_df = pd.DataFrame(cv_scores)\n",
    "display(cv_df)\n"
   ]
  },
  {
   "cell_type": "markdown",
   "id": "09d638fd",
   "metadata": {},
   "source": [
    "# 4. Model Selection and Deployment"
   ]
  },
  {
   "cell_type": "code",
   "execution_count": 169,
   "id": "66495b08",
   "metadata": {},
   "outputs": [
    {
     "name": "stdout",
     "output_type": "stream",
     "text": [
      "✅ Pipeline KNN disimpan sebagai 'knn_pipeline.pkl'\n"
     ]
    }
   ],
   "source": [
    "import pandas as pd\n",
    "from sklearn.model_selection import train_test_split\n",
    "from sklearn.preprocessing import OneHotEncoder\n",
    "from sklearn.compose import ColumnTransformer\n",
    "from sklearn.pipeline import Pipeline\n",
    "from sklearn.neighbors import KNeighborsClassifier\n",
    "import pickle\n",
    "\n",
    "# ===== 1. Load data =====\n",
    "df = pd.read_csv(\"restaurant_menu_optimization_data.csv\")\n",
    "df.columns = df.columns.str.strip()\n",
    "\n",
    "# Pilih variabel yang digunakan\n",
    "df = df[['RestaurantID', 'MenuCategory', 'Price', 'Profitability']].dropna()\n",
    "\n",
    "# ===== 2. Split data =====\n",
    "X = df[['RestaurantID', 'MenuCategory', 'Price']]\n",
    "y = df['Profitability']\n",
    "\n",
    "X_train, X_test, y_train, y_test = train_test_split(\n",
    "    X, y, test_size=0.2, stratify=y, random_state=42\n",
    ")\n",
    "\n",
    "# ===== 3. Buat pipeline =====\n",
    "# Encoder untuk kolom kategori\n",
    "categorical_features = ['RestaurantID', 'MenuCategory']\n",
    "numeric_features = ['Price']\n",
    "\n",
    "preprocessor = ColumnTransformer(\n",
    "    transformers=[\n",
    "        ('cat', OneHotEncoder(handle_unknown='ignore'), categorical_features),\n",
    "        ('num', 'passthrough', numeric_features)\n",
    "    ]\n",
    ")\n",
    "\n",
    "# Model KNN dengan parameter terbaikmu\n",
    "knn = KNeighborsClassifier(n_neighbors=5, weights='distance')\n",
    "\n",
    "# Gabungkan preprocessor + model\n",
    "pipeline = Pipeline(steps=[\n",
    "    ('preprocessor', preprocessor),\n",
    "    ('model', knn)\n",
    "])\n",
    "\n",
    "# ===== 4. Latih model =====\n",
    "pipeline.fit(X_train, y_train)\n",
    "\n",
    "# ===== 5. Simpan pipeline =====\n",
    "with open(\"knn_pipeline.pkl\", \"wb\") as f:\n",
    "    pickle.dump(pipeline, f)\n",
    "\n",
    "print(\"✅ Pipeline KNN disimpan sebagai 'knn_pipeline.pkl'\")\n"
   ]
  },
  {
   "cell_type": "code",
   "execution_count": 166,
   "id": "1ed48368",
   "metadata": {},
   "outputs": [
    {
     "name": "stdout",
     "output_type": "stream",
     "text": [
      "Prediksi Profitability: 0\n"
     ]
    }
   ],
   "source": [
    "import pandas as pd\n",
    "import pickle\n",
    "\n",
    "def predict_profitability(restaurant_id, menu_category, price):\n",
    "    # Strip whitespace from inputs\n",
    "    restaurant_id = restaurant_id.strip()\n",
    "    menu_category = menu_category.strip()\n",
    "    \n",
    "    # Encode input using label encoders\n",
    "    restaurantid_encoded = le_restaurant.transform([restaurant_id])[0]\n",
    "    menucategory_encoded = le_category.transform([menu_category])[0]\n",
    "\n",
    "    # Buat DataFrame sesuai fitur model\n",
    "    new_data = pd.DataFrame({\n",
    "        'restaurantid_encoded': [restaurantid_encoded],\n",
    "        'menucategory_encoded': [menucategory_encoded],\n",
    "        'Price': [price]\n",
    "    })\n",
    "\n",
    "    # Load model KNN final\n",
    "    with open(\"knn_final_model.pkl\", \"rb\") as f:\n",
    "        model = pickle.load(f)\n",
    "\n",
    "    # Prediksi\n",
    "    prediction = model.predict(new_data)[0]\n",
    "    return prediction\n",
    "\n",
    "# 🔹 Contoh prediksi\n",
    "hasil_prediksi = predict_profitability('R001', \"Desserts \", 89.9)\n",
    "print(f\"Prediksi Profitability: {hasil_prediksi}\")\n"
   ]
  },
  {
   "cell_type": "code",
   "execution_count": 167,
   "id": "d8c85cf6",
   "metadata": {},
   "outputs": [],
   "source": [
    "import pickle\n",
    "\n",
    "# Simpan label encoder dictionary\n",
    "label_encoders = {\n",
    "    \"restaurant\": le_restaurant,\n",
    "    \"category\": le_category,\n",
    "    \"profit\": le_profit\n",
    "}\n",
    "\n",
    "with open(\"label_encoder.pkl\", \"wb\") as f:\n",
    "    pickle.dump(label_encoders, f)\n"
   ]
  },
  {
   "cell_type": "code",
   "execution_count": 168,
   "id": "63292660",
   "metadata": {},
   "outputs": [
    {
     "name": "stderr",
     "output_type": "stream",
     "text": [
      "2025-08-08 15:30:05.962 Thread 'MainThread': missing ScriptRunContext! This warning can be ignored when running in bare mode.\n",
      "2025-08-08 15:30:05.962 Thread 'MainThread': missing ScriptRunContext! This warning can be ignored when running in bare mode.\n",
      "2025-08-08 15:30:05.962 Thread 'MainThread': missing ScriptRunContext! This warning can be ignored when running in bare mode.\n",
      "2025-08-08 15:30:05.962 Thread 'MainThread': missing ScriptRunContext! This warning can be ignored when running in bare mode.\n",
      "2025-08-08 15:30:05.962 Thread 'MainThread': missing ScriptRunContext! This warning can be ignored when running in bare mode.\n",
      "2025-08-08 15:30:05.970 Thread 'MainThread': missing ScriptRunContext! This warning can be ignored when running in bare mode.\n",
      "2025-08-08 15:30:05.970 Thread 'MainThread': missing ScriptRunContext! This warning can be ignored when running in bare mode.\n",
      "2025-08-08 15:30:05.970 Thread 'MainThread': missing ScriptRunContext! This warning can be ignored when running in bare mode.\n",
      "2025-08-08 15:30:05.970 Thread 'MainThread': missing ScriptRunContext! This warning can be ignored when running in bare mode.\n",
      "2025-08-08 15:30:05.972 Thread 'MainThread': missing ScriptRunContext! This warning can be ignored when running in bare mode.\n",
      "2025-08-08 15:30:05.972 Thread 'MainThread': missing ScriptRunContext! This warning can be ignored when running in bare mode.\n",
      "2025-08-08 15:30:05.972 Thread 'MainThread': missing ScriptRunContext! This warning can be ignored when running in bare mode.\n",
      "2025-08-08 15:30:05.972 Thread 'MainThread': missing ScriptRunContext! This warning can be ignored when running in bare mode.\n",
      "2025-08-08 15:30:05.972 Thread 'MainThread': missing ScriptRunContext! This warning can be ignored when running in bare mode.\n",
      "2025-08-08 15:30:05.972 Thread 'MainThread': missing ScriptRunContext! This warning can be ignored when running in bare mode.\n",
      "2025-08-08 15:30:05.972 Thread 'MainThread': missing ScriptRunContext! This warning can be ignored when running in bare mode.\n",
      "2025-08-08 15:30:05.972 Thread 'MainThread': missing ScriptRunContext! This warning can be ignored when running in bare mode.\n",
      "2025-08-08 15:30:05.972 Thread 'MainThread': missing ScriptRunContext! This warning can be ignored when running in bare mode.\n",
      "2025-08-08 15:30:05.972 Thread 'MainThread': missing ScriptRunContext! This warning can be ignored when running in bare mode.\n",
      "2025-08-08 15:30:05.972 Thread 'MainThread': missing ScriptRunContext! This warning can be ignored when running in bare mode.\n",
      "2025-08-08 15:30:05.972 Thread 'MainThread': missing ScriptRunContext! This warning can be ignored when running in bare mode.\n",
      "2025-08-08 15:30:05.972 Thread 'MainThread': missing ScriptRunContext! This warning can be ignored when running in bare mode.\n",
      "2025-08-08 15:30:05.972 Thread 'MainThread': missing ScriptRunContext! This warning can be ignored when running in bare mode.\n",
      "2025-08-08 15:30:05.972 Thread 'MainThread': missing ScriptRunContext! This warning can be ignored when running in bare mode.\n",
      "2025-08-08 15:30:05.972 Thread 'MainThread': missing ScriptRunContext! This warning can be ignored when running in bare mode.\n",
      "2025-08-08 15:30:05.972 Thread 'MainThread': missing ScriptRunContext! This warning can be ignored when running in bare mode.\n",
      "2025-08-08 15:30:05.982 Thread 'MainThread': missing ScriptRunContext! This warning can be ignored when running in bare mode.\n",
      "2025-08-08 15:30:05.982 Thread 'MainThread': missing ScriptRunContext! This warning can be ignored when running in bare mode.\n",
      "2025-08-08 15:30:05.982 Thread 'MainThread': missing ScriptRunContext! This warning can be ignored when running in bare mode.\n",
      "2025-08-08 15:30:05.982 Thread 'MainThread': missing ScriptRunContext! This warning can be ignored when running in bare mode.\n",
      "2025-08-08 15:30:05.982 Thread 'MainThread': missing ScriptRunContext! This warning can be ignored when running in bare mode.\n",
      "2025-08-08 15:30:05.982 Thread 'MainThread': missing ScriptRunContext! This warning can be ignored when running in bare mode.\n",
      "2025-08-08 15:30:05.982 Thread 'MainThread': missing ScriptRunContext! This warning can be ignored when running in bare mode.\n"
     ]
    }
   ],
   "source": [
    "import streamlit as st\n",
    "import pandas as pd\n",
    "import pickle\n",
    "\n",
    "# ======== Load Model & Label Encoders ========\n",
    "with open(\"knn_final_model.pkl\", \"rb\") as f:\n",
    "    model = pickle.load(f)\n",
    "\n",
    "with open(\"label_encoder.pkl\", \"rb\") as f:\n",
    "    label_encoders = pickle.load(f)\n",
    "\n",
    "# ======== Judul Aplikasi ========\n",
    "st.title(\"🍽️ Prediksi Profitability Restoran\")\n",
    "st.write(\"Masukkan detail restoran dan menu untuk memprediksi keuntungan (Low / Medium / High)\")\n",
    "\n",
    "# ======== Form Input ========\n",
    "restaurant_id = st.text_input(\"Restaurant ID\")\n",
    "menu_category = st.text_input(\"Menu Category\")\n",
    "price = st.number_input(\"Price\", min_value=0.0)\n",
    "\n",
    "# ======== Prediksi ========\n",
    "if st.button(\"Prediksi\"):\n",
    "    if restaurant_id and menu_category and price:\n",
    "        # Encode input using label encoders\n",
    "        try:\n",
    "            restaurantid_encoded = label_encoders[\"restaurant\"].transform([restaurant_id.strip()])[0]\n",
    "            menucategory_encoded = label_encoders[\"category\"].transform([menu_category.strip()])[0]\n",
    "        except Exception as e:\n",
    "            st.error(\"ID atau kategori tidak ditemukan di data pelatihan.\")\n",
    "            st.stop()\n",
    "\n",
    "        # Buat DataFrame sesuai fitur model\n",
    "        new_data = pd.DataFrame({\n",
    "            'restaurantid_encoded': [restaurantid_encoded],\n",
    "            'menucategory_encoded': [menucategory_encoded],\n",
    "            'Price': [price]\n",
    "        })\n",
    "\n",
    "        # Prediksi\n",
    "        pred_encoded = model.predict(new_data)[0]\n",
    "        prediction_label = label_encoders[\"profit\"].inverse_transform([pred_encoded])[0]\n",
    "\n",
    "        st.success(f\"📊 Prediksi Profitability: **{prediction_label}**\")\n",
    "    else:\n",
    "        st.warning(\"⚠️ Mohon isi semua kolom input.\")\n"
   ]
  },
  {
   "cell_type": "code",
   "execution_count": 173,
   "id": "09b1f51a",
   "metadata": {},
   "outputs": [
    {
     "name": "stdout",
     "output_type": "stream",
     "text": [
      "✅ Model disimpan ulang sebagai knn_final_model.joblib\n"
     ]
    },
    {
     "data": {
      "text/plain": [
       "['preprocessor.joblib']"
      ]
     },
     "execution_count": 173,
     "metadata": {},
     "output_type": "execute_result"
    }
   ],
   "source": [
    "import joblib\n",
    "import pickle\n",
    "\n",
    "# Kalau masih punya model final di lokal\n",
    "from sklearn.neighbors import KNeighborsClassifier\n",
    "\n",
    "# Load model lama (.pkl) yang ada\n",
    "with open(\"knn_final_model.pkl\", \"rb\") as f:\n",
    "    model = pickle.load(f)\n",
    "\n",
    "# Simpan ulang dalam format joblib (lebih aman untuk sklearn)\n",
    "joblib.dump(model, \"knn_final_model.joblib\")\n",
    "print(\"✅ Model disimpan ulang sebagai knn_final_model.joblib\")\n",
    "\n",
    "# Simpan label encoder\n",
    "joblib.dump(label_encoders, \"label_encoder.joblib\")\n",
    "\n",
    "# Kalau ada preprocessor, simpan juga\n",
    "joblib.dump(preprocessor, \"preprocessor.joblib\")\n",
    "\n"
   ]
  }
 ],
 "metadata": {
  "kernelspec": {
   "display_name": "Python 3",
   "language": "python",
   "name": "python3"
  },
  "language_info": {
   "codemirror_mode": {
    "name": "ipython",
    "version": 3
   },
   "file_extension": ".py",
   "mimetype": "text/x-python",
   "name": "python",
   "nbconvert_exporter": "python",
   "pygments_lexer": "ipython3",
   "version": "3.11.9"
  }
 },
 "nbformat": 4,
 "nbformat_minor": 5
}
