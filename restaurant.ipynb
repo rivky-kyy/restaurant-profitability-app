{
 "cells": [
  {
   "cell_type": "markdown",
   "id": "d320437f",
   "metadata": {},
   "source": [
    "# Restaurant Menu Optimization Data\n",
    "\n",
    "## 📋 Deskripsi Dataset: Restaurant Menu Optimization\n",
    "\n",
    "Dataset yang digunakan dalam analisis ini adalah **Restaurant Menu Optimization**, yang berisi informasi mengenai berbagai item menu dari sejumlah restoran. Dataset ini memberikan gambaran lengkap mengenai menu, harga, dan profitabilitas setiap item, sehingga sangat cocok untuk membangun model prediksi yang membantu dalam pengambilan keputusan bisnis restoran.\n",
    "\n",
    "### 🗂️ Fitur-fitur dalam Dataset\n",
    "\n",
    "Berikut adalah fitur utama yang terdapat dalam dataset beserta penjelasan fungsinya:\n",
    "\n",
    "| Nama Fitur      | Tipe Data  | Deskripsi / Fungsi                                               |\n",
    "|-----------------|------------|-----------------------------------------------------------------|\n",
    "| 🏷️ `RestaurantID`  | Kategorik  | Identifikasi unik setiap restoran dalam dataset                 |\n",
    "| 🍲 `MenuCategory`  | Kategorik  | Kategori atau jenis menu, misalnya Appetizer, Main Course, dll |\n",
    "| 💰 `Price`         | Numerik    | Harga jual item menu                                            |\n",
    "| 📊 `Profitability` | Kategorik  | Label target yang menunjukkan apakah menu tersebut menguntungkan (Low, Medium, High) |\n",
    "\n",
    "---\n",
    "\n",
    "### 🎯 Fitur yang Digunakan dalam Analisis\n",
    "\n",
    "Untuk membangun model prediksi profitabilitas, pada analisis kali ini digunakan fitur:\n",
    "\n",
    "- 🏷️ **RestaurantID**  \n",
    "- 🍲 **MenuCategory**  \n",
    "- 💰 **Price**\n",
    "\n",
    "Sebagai variabel input (fitur independen), sedangkan variabel target (dependen) yang ingin diprediksi adalah:\n",
    "\n",
    "- 📊 **Profitability**\n",
    "\n",
    "Pendekatan ini memungkinkan model untuk mempelajari pola hubungan antara identitas restoran, jenis menu, harga jual, dan potensi keuntungan menu tersebut.\n",
    "\n",
    "---\n",
    "\n",
    "✨ Dengan cara ini, model dapat memberikan insight yang berharga untuk pengembangan menu dan strategi bisnis restoran secara efektif!\n"
   ]
  },
  {
   "cell_type": "markdown",
   "id": "57a0f968",
   "metadata": {},
   "source": [
    "# 1. Dataset Selection and Exploration"
   ]
  },
  {
   "cell_type": "markdown",
   "id": "e95fd8ba",
   "metadata": {},
   "source": [
    "## 1.1 Brief Description\n",
    "Bertujuan untuk emuat dataset yang akan digunakan, membersihkan nama kolom dari spasi berlebih, dan melihat gambaran awal data. Proses ini penting agar data siap diproses di tahap analisis berikutnya."
   ]
  },
  {
   "cell_type": "code",
   "execution_count": 32,
   "id": "22e77713",
   "metadata": {},
   "outputs": [
    {
     "data": {
      "text/html": [
       "<div>\n",
       "<style scoped>\n",
       "    .dataframe tbody tr th:only-of-type {\n",
       "        vertical-align: middle;\n",
       "    }\n",
       "\n",
       "    .dataframe tbody tr th {\n",
       "        vertical-align: top;\n",
       "    }\n",
       "\n",
       "    .dataframe thead th {\n",
       "        text-align: right;\n",
       "    }\n",
       "</style>\n",
       "<table border=\"1\" class=\"dataframe\">\n",
       "  <thead>\n",
       "    <tr style=\"text-align: right;\">\n",
       "      <th></th>\n",
       "      <th>RestaurantID</th>\n",
       "      <th>MenuCategory</th>\n",
       "      <th>MenuItem</th>\n",
       "      <th>Ingredients</th>\n",
       "      <th>Price</th>\n",
       "      <th>Profitability</th>\n",
       "    </tr>\n",
       "  </thead>\n",
       "  <tbody>\n",
       "    <tr>\n",
       "      <th>0</th>\n",
       "      <td>R003</td>\n",
       "      <td>Beverages</td>\n",
       "      <td>Soda</td>\n",
       "      <td>['confidential']</td>\n",
       "      <td>2.55</td>\n",
       "      <td>Low</td>\n",
       "    </tr>\n",
       "    <tr>\n",
       "      <th>1</th>\n",
       "      <td>R001</td>\n",
       "      <td>Appetizers</td>\n",
       "      <td>Spinach Artichoke Dip</td>\n",
       "      <td>['Tomatoes', 'Basil', 'Garlic', 'Olive Oil']</td>\n",
       "      <td>11.12</td>\n",
       "      <td>Medium</td>\n",
       "    </tr>\n",
       "    <tr>\n",
       "      <th>2</th>\n",
       "      <td>R003</td>\n",
       "      <td>Desserts</td>\n",
       "      <td>New York Cheesecake</td>\n",
       "      <td>['Chocolate', 'Butter', 'Sugar', 'Eggs']</td>\n",
       "      <td>18.66</td>\n",
       "      <td>High</td>\n",
       "    </tr>\n",
       "    <tr>\n",
       "      <th>3</th>\n",
       "      <td>R003</td>\n",
       "      <td>Main Course</td>\n",
       "      <td>Chicken Alfredo</td>\n",
       "      <td>['Chicken', 'Fettuccine', 'Alfredo Sauce', 'Pa...</td>\n",
       "      <td>29.55</td>\n",
       "      <td>High</td>\n",
       "    </tr>\n",
       "    <tr>\n",
       "      <th>4</th>\n",
       "      <td>R002</td>\n",
       "      <td>Main Course</td>\n",
       "      <td>Grilled Steak</td>\n",
       "      <td>['Chicken', 'Fettuccine', 'Alfredo Sauce', 'Pa...</td>\n",
       "      <td>17.73</td>\n",
       "      <td>Medium</td>\n",
       "    </tr>\n",
       "  </tbody>\n",
       "</table>\n",
       "</div>"
      ],
      "text/plain": [
       "  RestaurantID MenuCategory               MenuItem  \\\n",
       "0         R003    Beverages                   Soda   \n",
       "1         R001   Appetizers  Spinach Artichoke Dip   \n",
       "2         R003     Desserts    New York Cheesecake   \n",
       "3         R003  Main Course        Chicken Alfredo   \n",
       "4         R002  Main Course          Grilled Steak   \n",
       "\n",
       "                                         Ingredients  Price Profitability  \n",
       "0                                   ['confidential']   2.55           Low  \n",
       "1       ['Tomatoes', 'Basil', 'Garlic', 'Olive Oil']  11.12        Medium  \n",
       "2           ['Chocolate', 'Butter', 'Sugar', 'Eggs']  18.66          High  \n",
       "3  ['Chicken', 'Fettuccine', 'Alfredo Sauce', 'Pa...  29.55          High  \n",
       "4  ['Chicken', 'Fettuccine', 'Alfredo Sauce', 'Pa...  17.73        Medium  "
      ]
     },
     "execution_count": 32,
     "metadata": {},
     "output_type": "execute_result"
    }
   ],
   "source": [
    "import pandas as pd\n",
    "import matplotlib.pyplot as plt\n",
    "import seaborn as sns\n",
    "\n",
    "# Load dataset\n",
    "df = pd.read_csv(\"restaurant_menu_optimization_data.csv\")\n",
    "\n",
    "# Strip spasi dari nama kolom (penting!)\n",
    "df.columns = df.columns.str.strip()\n",
    "\n",
    "# Tampilkan 5 baris pertama\n",
    "df.head()\n"
   ]
  },
  {
   "cell_type": "markdown",
   "id": "1cc20759",
   "metadata": {},
   "source": [
    "## 1.2 Dataset Information and Initial Checks\n",
    "Bertujuan untuk memahami struktur awal dataset sebelum dilakukan analisis atau pemodelan.\n",
    "Mulai dari mengidentifikasi tipe data tiap kolom agar bisa menentukan metode pemrosesan yang tepat,menghitung jumlah nilai unik untuk memahami sifat data (kategorikal atau numerik), memeriksa keberadaan missing values yang dapat mempengaruhi hasil analisis atau model, menyajikan hasil pemeriksaan secara rapi dengan jarak antar output agar mudah dibaca."
   ]
  },
  {
   "cell_type": "code",
   "execution_count": 33,
   "id": "e9f94ec9",
   "metadata": {},
   "outputs": [
    {
     "name": "stdout",
     "output_type": "stream",
     "text": [
      "<class 'pandas.core.frame.DataFrame'>\n",
      "RangeIndex: 1000 entries, 0 to 999\n",
      "Data columns (total 6 columns):\n",
      " #   Column         Non-Null Count  Dtype  \n",
      "---  ------         --------------  -----  \n",
      " 0   RestaurantID   1000 non-null   object \n",
      " 1   MenuCategory   1000 non-null   object \n",
      " 2   MenuItem       1000 non-null   object \n",
      " 3   Ingredients    1000 non-null   object \n",
      " 4   Price          1000 non-null   float64\n",
      " 5   Profitability  1000 non-null   object \n",
      "dtypes: float64(1), object(5)\n",
      "memory usage: 47.0+ KB\n",
      "\n",
      "Nilai unik tiap kolom:\n",
      " RestaurantID       3\n",
      "MenuCategory       4\n",
      "MenuItem          16\n",
      "Ingredients        4\n",
      "Price            767\n",
      "Profitability      3\n",
      "dtype: int64\n",
      "\n",
      "Missing values:\n",
      " RestaurantID     0\n",
      "MenuCategory     0\n",
      "MenuItem         0\n",
      "Ingredients      0\n",
      "Price            0\n",
      "Profitability    0\n",
      "dtype: int64\n"
     ]
    }
   ],
   "source": [
    "# Informasi kolom dan tipe data\n",
    "df.info()\n",
    "\n",
    "print()  # Spasi antar output\n",
    "\n",
    "# Cek jumlah nilai unik\n",
    "print(\"Nilai unik tiap kolom:\\n\", df.nunique())\n",
    "\n",
    "print()  # Spasi antar output\n",
    "\n",
    "# Cek missing values\n",
    "print(\"Missing values:\\n\", df.isnull().sum())"
   ]
  },
  {
   "cell_type": "markdown",
   "id": "2101eaf2",
   "metadata": {},
   "source": [
    "## 1.3 isualisasi Distribusi Target Variable\n",
    "Bertujuan untuk memahami distribusi data pada variabel target (Profitability) untuk melihat apakah dataset seimbang atau tidak (class balance check), menentukan apakah diperlukan penanganan imbalance seperti oversampling atau undersampling di tahap preprocessing, menghitung rasio proporsi tiap kelas untuk analisis yang lebih detail."
   ]
  },
  {
   "cell_type": "code",
   "execution_count": 34,
   "id": "f88ecd00",
   "metadata": {},
   "outputs": [
    {
     "data": {
      "image/png": "[encoded data removed]",
      "text/plain": [
       "<Figure size 640x480 with 1 Axes>"
      ]
     },
     "metadata": {},
     "output_type": "display_data"
    },
    {
     "data": {
      "text/plain": [
       "Profitability\n",
       "Medium    0.495\n",
       "High      0.386\n",
       "Low       0.119\n",
       "Name: proportion, dtype: float64"
      ]
     },
     "execution_count": 34,
     "metadata": {},
     "output_type": "execute_result"
    }
   ],
   "source": [
    "sns.countplot(x='Profitability', data=df, order=df['Profitability'].value_counts().index)\n",
    "plt.title(\"Distribusi Profitability\")\n",
    "plt.xlabel(\"Profitability Level\")\n",
    "plt.ylabel(\"Jumlah\")\n",
    "plt.show()\n",
    "\n",
    "# Rasio per kelas\n",
    "df['Profitability'].value_counts(normalize=True)\n"
   ]
  },
  {
   "cell_type": "markdown",
   "id": "99f8c776",
   "metadata": {},
   "source": [
    "## 1.3 Menu Price Distribution Analysis\n",
    "Tujuan dari bagian kode ini adalah untuk memahami pola distribusi harga menu pada dataset. Dengan menggunakan histogram yang dilengkapi *kernel density estimation* (KDE), visualisasi ini membantu mengidentifikasi rentang harga yang paling sering muncul, melihat apakah data harga cenderung terpusat (*normal distribution*), miring (*skewed*), atau memiliki *outlier*. Informasi ini penting untuk analisis strategi harga, misalnya dalam menentukan kategori harga rendah, menengah, atau tinggi, serta sebagai pertimbangan awal sebelum melakukan transformasi data atau segmentasi menu."
   ]
  },
  {
   "cell_type": "code",
   "execution_count": 35,
   "id": "d0f069b7",
   "metadata": {},
   "outputs": [
    {
     "data": {
      "image/png": "[encoded data removed]",
      "text/plain": [
       "<Figure size 800x500 with 1 Axes>"
      ]
     },
     "metadata": {},
     "output_type": "display_data"
    }
   ],
   "source": [
    "plt.figure(figsize=(8, 5))\n",
    "sns.histplot(df['Price'], kde=True)\n",
    "plt.title(\"Distribusi Harga Menu\")\n",
    "plt.xlabel(\"Harga\")\n",
    "plt.ylabel(\"Frekuensi\")\n",
    "plt.show()\n"
   ]
  },
  {
   "cell_type": "markdown",
   "id": "cd2c4092",
   "metadata": {},
   "source": [
    "## 1.4 Analysis of Menu Category Distribution\n",
    "\n",
    "Tujuan dari bagian kode ini adalah untuk melihat sebaran jumlah menu pada setiap kategori yang ada di dataset. Visualisasi countplot horizontal digunakan agar perbedaan jumlah menu di tiap kategori dapat terlihat lebih jelas, terutama jika terdapat kategori dengan jumlah menu yang jauh lebih banyak atau lebih sedikit dibandingkan kategori lain. Informasi ini berguna untuk memahami proporsi menu yang ditawarkan restoran, mengidentifikasi kategori yang dominan, serta menemukan potensi kategori yang perlu dikembangkan untuk menyeimbangkan variasi pilihan menu."
   ]
  },
  {
   "cell_type": "code",
   "execution_count": 36,
   "id": "472bab97",
   "metadata": {},
   "outputs": [
    {
     "data": {
      "image/png": "[encoded data removed]",
      "text/plain": [
       "<Figure size 640x480 with 1 Axes>"
      ]
     },
     "metadata": {},
     "output_type": "display_data"
    },
    {
     "name": "stdout",
     "output_type": "stream",
     "text": [
      "\n"
     ]
    }
   ],
   "source": [
    "sns.countplot(y='MenuCategory', data=df, order=df['MenuCategory'].value_counts().index)\n",
    "plt.title(\"Jumlah Menu per Kategori\")\n",
    "plt.xlabel(\"Jumlah\")\n",
    "plt.ylabel(\"Menu Category\")\n",
    "plt.show()\n",
    "\n",
    "print()  # Spasi 1 baris agar output lebih rapi\n"
   ]
  },
  {
   "cell_type": "markdown",
   "id": "d0e6be7a",
   "metadata": {},
   "source": [
    "# 2. Data Preprocessing "
   ]
  },
  {
   "cell_type": "markdown",
   "id": "90637712",
   "metadata": {},
   "source": [
    "## 2.1 Data Selection and Cleaning\n",
    "\n",
    "Tujuan dari tahap ini adalah untuk memastikan data yang digunakan fokus pada variabel yang relevan dan bebas dari missing values yang dapat mengganggu proses analisis maupun pelatihan model. Pertama, hanya kolom yang dibutuhkan (RestaurantID, MenuCategory, Price, dan Profitability) yang dipilih agar dataset menjadi lebih ringkas dan mudah diolah. Selanjutnya dilakukan pengecekan nilai kosong (missing values) pada setiap kolom. Jika ditemukan, baris yang mengandung data kosong dihapus menggunakan dropna() untuk menjaga integritas data dan mencegah error atau bias pada analisis serta pemodelan."
   ]
  },
  {
   "cell_type": "code",
   "execution_count": 37,
   "id": "bfd3ccab",
   "metadata": {},
   "outputs": [
    {
     "name": "stdout",
     "output_type": "stream",
     "text": [
      "Missing values:\n",
      " RestaurantID     0\n",
      "MenuCategory     0\n",
      "Price            0\n",
      "Profitability    0\n",
      "dtype: int64\n"
     ]
    }
   ],
   "source": [
    "# Pilih hanya kolom yang akan digunakan\n",
    "df = df[['RestaurantID', 'MenuCategory', 'Price', 'Profitability']]\n",
    "\n",
    "# Cek dan bersihkan data kosong\n",
    "print(\"Missing values:\\n\", df.isnull().sum())\n",
    "df.dropna(inplace=True)  # Hapus baris dengan missing value\n",
    "\n"
   ]
  },
  {
   "cell_type": "markdown",
   "id": "a53790bd",
   "metadata": {},
   "source": [
    "## 2.2 Encoding Categorical Variables\n",
    "\n",
    "Tujuan dari tahap ini adalah untuk mengubah data kategorikal menjadi bentuk numerik agar dapat diproses oleh algoritma machine learning, yang pada umumnya hanya menerima input numerik. Proses ini dilakukan menggunakan LabelEncoder dari scikit-learn, di mana setiap nilai unik pada kolom RestaurantID, MenuCategory, dan Profitability diberi kode numerik. Hasil encoding disimpan pada kolom baru (restaurantid_encoded, menucategory_encoded, dan Profitability_encoded). Selain itu, dilakukan pengecekan mapping kelas ke kode numerik pada target (Profitability) untuk memastikan proses encoding berjalan dengan benar dan transparan."
   ]
  },
  {
   "cell_type": "code",
   "execution_count": 38,
   "id": "90b8217d",
   "metadata": {},
   "outputs": [
    {
     "name": "stdout",
     "output_type": "stream",
     "text": [
      "High → 0\n",
      "Low → 1\n",
      "Medium → 2\n"
     ]
    }
   ],
   "source": [
    "from sklearn.preprocessing import LabelEncoder\n",
    "\n",
    "# LabelEncoder untuk fitur kategori\n",
    "le_restaurant = LabelEncoder()\n",
    "le_category = LabelEncoder()\n",
    "le_profit = LabelEncoder()\n",
    "\n",
    "df['restaurantid_encoded'] = le_restaurant.fit_transform(df['RestaurantID'])\n",
    "df['menucategory_encoded'] = le_category.fit_transform(df['MenuCategory'])\n",
    "df['Profitability_encoded'] = le_profit.fit_transform(df['Profitability'])\n",
    "\n",
    "# Cek mapping label target\n",
    "for cls, code in zip(le_profit.classes_, le_profit.transform(le_profit.classes_)):\n",
    "    print(f\"{cls} → {code}\")\n"
   ]
  },
  {
   "cell_type": "markdown",
   "id": "8d562fa9",
   "metadata": {},
   "source": [
    "## 2.3 Feature and Target Separation\n",
    "Tahap ini adalah untuk memisahkan variabel independen (fitur) dan variabel dependen (target) sebelum proses pelatihan model. Variabel fitur (X) berisi informasi yang digunakan model untuk melakukan prediksi, yaitu restaurantid_encoded, menucategory_encoded, dan Price. Sedangkan variabel target (y) adalah Profitability_encoded, yang merepresentasikan kategori profitabilitas menu. Pemisahan ini penting agar algoritma machine learning dapat belajar hubungan antara input (fitur) dan output (target) secara jelas."
   ]
  },
  {
   "cell_type": "code",
   "execution_count": 39,
   "id": "c1a90624",
   "metadata": {},
   "outputs": [],
   "source": [
    "# Fitur (X)\n",
    "X = df[['restaurantid_encoded', 'menucategory_encoded', 'Price']]\n",
    "\n",
    "# Target (y)\n",
    "y = df['Profitability_encoded']\n",
    "\n"
   ]
  },
  {
   "cell_type": "markdown",
   "id": "20cb259c",
   "metadata": {},
   "source": [
    "## 2.4 Separation of Training Data and Test Data\n",
    "Tahap ini bertujuan untuk membagi dataset menjadi dua bagian: data latih (training set) dan data uji (testing set). Data latih (X_train, y_train) digunakan untuk melatih model, sedangkan data uji (X_test, y_test) digunakan untuk mengukur kinerja model terhadap data yang belum pernah dilihat sebelumnya.\n",
    "\n",
    "Pembagian data menjadi 80% untuk pelatihan dan 20% untuk pengujian dilakukan untuk menjaga keseimbangan antara jumlah data yang digunakan model untuk belajar dan jumlah data yang digunakan untuk mengevaluasi kinerjanya. Dengan 80% data latih, model memiliki cukup banyak informasi untuk mempelajari pola dan hubungan antar fitur secara optimal, sementara 20% data uji sudah cukup representatif untuk mengukur performa model pada data baru yang belum pernah dilihat sebelumnya. Rasio ini juga membantu mengurangi risiko overfitting, di mana model terlalu menyesuaikan diri dengan data latih dan gagal melakukan generalisasi dengan baik."
   ]
  },
  {
   "cell_type": "code",
   "execution_count": 40,
   "id": "58abe8b1",
   "metadata": {},
   "outputs": [],
   "source": [
    "from sklearn.model_selection import train_test_split\n",
    "\n",
    "X_train, X_test, y_train, y_test = train_test_split(\n",
    "    X, y,\n",
    "    test_size=0.2,\n",
    "    stratify=y,\n",
    "    random_state=42\n",
    ")\n"
   ]
  },
  {
   "cell_type": "markdown",
   "id": "68a142da",
   "metadata": {},
   "source": [
    "## 2.5 Preprocessing Results Check\n",
    "Langkah ini dilakukan untuk memverifikasi hasil dari proses preprocessing sebelum data digunakan dalam pelatihan model. Pertama, ditampilkan contoh beberapa baris awal X_train guna memastikan semua variabel kategori telah dikodekan ke dalam bentuk numerik sesuai kebutuhan algoritma machine learning. Selanjutnya, dilakukan pengecekan distribusi nilai pada y_train dalam bentuk proporsi untuk melihat keseimbangan antar kelas. Pemeriksaan ini penting agar dapat mengidentifikasi potensi masalah seperti encoding yang salah, nilai yang hilang, atau distribusi kelas yang tidak seimbang, yang dapat memengaruhi performa model pada tahap selanjutnya."
   ]
  },
  {
   "cell_type": "code",
   "execution_count": 41,
   "id": "2ac64628",
   "metadata": {},
   "outputs": [
    {
     "name": "stdout",
     "output_type": "stream",
     "text": [
      "Contoh data X_train:\n",
      "     restaurantid_encoded  menucategory_encoded  Price\n",
      "441                     2                     1   2.85\n",
      "955                     2                     0   8.54\n",
      "98                      2                     0  13.67\n",
      "36                      0                     2  11.11\n",
      "887                     0                     3  18.24\n",
      "\n",
      "Distribusi y_train:\n",
      "Profitability_encoded\n",
      "2    0.49500\n",
      "0    0.38625\n",
      "1    0.11875\n",
      "Name: proportion, dtype: float64\n"
     ]
    }
   ],
   "source": [
    "# Cek data hasil preprocessing\n",
    "print(\"Contoh data X_train:\")\n",
    "print(X_train.head())\n",
    "\n",
    "print(\"\\nDistribusi y_train:\")\n",
    "print(y_train.value_counts(normalize=True))\n"
   ]
  },
  {
   "cell_type": "markdown",
   "id": "9c46ef11",
   "metadata": {},
   "source": [
    "# 3. Model Training and Comparison\n",
    "Pada tahap ini, dataset yang telah melalui proses preprocessing akan digunakan untuk melatih berbagai algoritma machine learning. Tujuan utama dari tahap ini adalah membandingkan performa beberapa model berbeda dalam memprediksi target variabel, sehingga dapat dipilih model terbaik yang memiliki akurasi dan kemampuan generalisasi paling tinggi.\n",
    "\n",
    "Proses dimulai dengan memilih sejumlah algoritma yang sesuai dengan karakteristik data, seperti Logistic Regression, Decision Tree, Support Vector Machine (SVM), K-Nearest Neighbors (KNN), Naive Bayes, dan Artificial Neural Network (ANN). Masing-masing model akan dilatih menggunakan data latih (X_train dan y_train), lalu diuji menggunakan data uji (X_test dan y_test).\n",
    "\n",
    "Evaluasi dilakukan dengan metrik seperti accuracy, precision, recall, dan F1-score, untuk memberikan gambaran menyeluruh mengenai performa setiap model. Hasil perbandingan ini akan menjadi dasar dalam menentukan model yang optimal untuk digunakan pada tahap implementasi dan prediksi di masa depan."
   ]
  },
  {
   "cell_type": "markdown",
   "id": "e99c53f6",
   "metadata": {},
   "source": [
    "## 3.1 Initialization of Machine Learning 6 Models\n",
    "Pada tahap inisialisasi model, setiap algoritma dibekali dengan parameter awal yang berpengaruh terhadap proses pelatihan. Nilai `max_iter` menentukan jumlah maksimum iterasi pelatihan, di mana peningkatan nilainya memberi kesempatan model, seperti *Logistic Regression* atau *ANN*, untuk mencapai konvergensi jika sebelumnya belum stabil. Namun, iterasi yang terlalu besar tidak selalu meningkatkan akurasi dan justru dapat memperpanjang waktu komputasi tanpa hasil signifikan. Parameter `n_neighbors` pada KNN mengatur jumlah tetangga yang dipertimbangkan dalam klasifikasi; nilai yang lebih besar membuat prediksi lebih stabil, tetapi berisiko menghilangkan pola lokal sehingga menyebabkan *underfitting*. Pada *ANN*, penambahan jumlah neuron di `hidden_layer_sizes` dapat meningkatkan kapasitas model untuk mempelajari pola kompleks, tetapi berpotensi menimbulkan *overfitting* dan memperlambat proses pelatihan. Sementara itu, `random_state` digunakan untuk menjaga konsistensi hasil, tanpa memengaruhi performa model secara langsung. Dengan demikian, penyesuaian parameter perlu dilakukan secara seimbang agar didapatkan kombinasi yang optimal antara akurasi, waktu pelatihan, dan kemampuan generalisasi model.\n"
   ]
  },
  {
   "cell_type": "code",
   "execution_count": 42,
   "id": "51560049",
   "metadata": {},
   "outputs": [],
   "source": [
    "from sklearn.linear_model import LogisticRegression\n",
    "from sklearn.tree import DecisionTreeClassifier\n",
    "from sklearn.svm import SVC\n",
    "from sklearn.neighbors import KNeighborsClassifier\n",
    "from sklearn.naive_bayes import GaussianNB\n",
    "from sklearn.neural_network import MLPClassifier\n",
    "\n",
    "from sklearn.metrics import accuracy_score, classification_report, confusion_matrix\n",
    "\n",
    "# Inisialisasi model\n",
    "models = {\n",
    "    'Logistic Regression': LogisticRegression(max_iter=1000, random_state=42),\n",
    "    'Decision Tree': DecisionTreeClassifier(random_state=42),\n",
    "    'SVM': SVC(kernel='rbf', random_state=42),\n",
    "    'KNN': KNeighborsClassifier(n_neighbors=5),\n",
    "    'Naive Bayes': GaussianNB(),\n",
    "    'ANN (MLPClassifier)': MLPClassifier(hidden_layer_sizes=(100,), max_iter=500, random_state=42)\n",
    "}\n",
    "\n"
   ]
  },
  {
   "cell_type": "markdown",
   "id": "ff0d10ab",
   "metadata": {},
   "source": [
    "## 3.2 Model Performance Evaluation\n",
    "Bagian kode ini bertujuan untuk melatih seluruh model yang telah diinisialisasi sebelumnya, mengevaluasi performanya dengan beberapa metrik, lalu menampilkan hasil perbandingan dalam bentuk DataFrame yang rapi."
   ]
  },
  {
   "cell_type": "code",
   "execution_count": 43,
   "id": "ddb66db0",
   "metadata": {},
   "outputs": [
    {
     "data": {
      "text/html": [
       "<div>\n",
       "<style scoped>\n",
       "    .dataframe tbody tr th:only-of-type {\n",
       "        vertical-align: middle;\n",
       "    }\n",
       "\n",
       "    .dataframe tbody tr th {\n",
       "        vertical-align: top;\n",
       "    }\n",
       "\n",
       "    .dataframe thead th {\n",
       "        text-align: right;\n",
       "    }\n",
       "</style>\n",
       "<table border=\"1\" class=\"dataframe\">\n",
       "  <thead>\n",
       "    <tr style=\"text-align: right;\">\n",
       "      <th></th>\n",
       "      <th>Model</th>\n",
       "      <th>Accuracy</th>\n",
       "      <th>Precision</th>\n",
       "      <th>Recall</th>\n",
       "      <th>F1-Score</th>\n",
       "    </tr>\n",
       "  </thead>\n",
       "  <tbody>\n",
       "    <tr>\n",
       "      <th>3</th>\n",
       "      <td>KNN</td>\n",
       "      <td>0.920</td>\n",
       "      <td>0.923400</td>\n",
       "      <td>0.850469</td>\n",
       "      <td>0.875559</td>\n",
       "    </tr>\n",
       "    <tr>\n",
       "      <th>5</th>\n",
       "      <td>ANN (MLPClassifier)</td>\n",
       "      <td>0.915</td>\n",
       "      <td>0.920503</td>\n",
       "      <td>0.845178</td>\n",
       "      <td>0.872047</td>\n",
       "    </tr>\n",
       "    <tr>\n",
       "      <th>1</th>\n",
       "      <td>Decision Tree</td>\n",
       "      <td>0.870</td>\n",
       "      <td>0.851912</td>\n",
       "      <td>0.816739</td>\n",
       "      <td>0.831839</td>\n",
       "    </tr>\n",
       "    <tr>\n",
       "      <th>0</th>\n",
       "      <td>Logistic Regression</td>\n",
       "      <td>0.820</td>\n",
       "      <td>0.552685</td>\n",
       "      <td>0.620491</td>\n",
       "      <td>0.583982</td>\n",
       "    </tr>\n",
       "    <tr>\n",
       "      <th>2</th>\n",
       "      <td>SVM</td>\n",
       "      <td>0.820</td>\n",
       "      <td>0.550043</td>\n",
       "      <td>0.622415</td>\n",
       "      <td>0.583901</td>\n",
       "    </tr>\n",
       "    <tr>\n",
       "      <th>4</th>\n",
       "      <td>Naive Bayes</td>\n",
       "      <td>0.730</td>\n",
       "      <td>0.492803</td>\n",
       "      <td>0.549303</td>\n",
       "      <td>0.517999</td>\n",
       "    </tr>\n",
       "  </tbody>\n",
       "</table>\n",
       "</div>"
      ],
      "text/plain": [
       "                 Model  Accuracy  Precision    Recall  F1-Score\n",
       "3                  KNN     0.920   0.923400  0.850469  0.875559\n",
       "5  ANN (MLPClassifier)     0.915   0.920503  0.845178  0.872047\n",
       "1        Decision Tree     0.870   0.851912  0.816739  0.831839\n",
       "0  Logistic Regression     0.820   0.552685  0.620491  0.583982\n",
       "2                  SVM     0.820   0.550043  0.622415  0.583901\n",
       "4          Naive Bayes     0.730   0.492803  0.549303  0.517999"
      ]
     },
     "metadata": {},
     "output_type": "display_data"
    }
   ],
   "source": [
    "import warnings\n",
    "from sklearn.exceptions import ConvergenceWarning\n",
    "from sklearn.metrics import accuracy_score, precision_score, recall_score, f1_score\n",
    "from sklearn.preprocessing import LabelEncoder\n",
    "\n",
    "# Hilangkan warning konvergensi\n",
    "warnings.filterwarnings(\"ignore\", category=ConvergenceWarning)\n",
    "\n",
    "# Encode target labels to numeric\n",
    "le_target = LabelEncoder()\n",
    "y_train_encoded = le_target.fit_transform(y_train)\n",
    "y_test_encoded = le_target.transform(y_test)\n",
    "\n",
    "eval_results = []\n",
    "\n",
    "# Gunakan pipeline yang sudah benar, tidak perlu scaling manual\n",
    "for name, model in models.items():\n",
    "    model.fit(X_train, y_train_encoded)\n",
    "    y_pred = model.predict(X_test)\n",
    "\n",
    "    # If model output is not numeric, encode it\n",
    "    if y_pred.dtype.kind in {'U', 'O'}:\n",
    "        y_pred = le_target.transform(y_pred)\n",
    "\n",
    "    acc = accuracy_score(y_test_encoded, y_pred)\n",
    "    prec = precision_score(y_test_encoded, y_pred, average='macro', zero_division=0)\n",
    "    rec = recall_score(y_test_encoded, y_pred, average='macro', zero_division=0)\n",
    "    f1 = f1_score(y_test_encoded, y_pred, average='macro', zero_division=0)\n",
    "\n",
    "    eval_results.append({\n",
    "        \"Model\": name,\n",
    "        \"Accuracy\": acc,\n",
    "        \"Precision\": prec,\n",
    "        \"Recall\": rec,\n",
    "        \"F1-Score\": f1\n",
    "    })\n",
    "\n",
    "# Hasil ke DataFrame\n",
    "results_df = pd.DataFrame(eval_results)\n",
    "results_df.sort_values(by='Accuracy', ascending=False, inplace=True)\n",
    "\n",
    "display(results_df)\n"
   ]
  },
  {
   "cell_type": "markdown",
   "id": "f40c7ec3",
   "metadata": {},
   "source": [
    "## 3.3 Implementasi Model Berbasis Pipeline\n",
    "Pada sub bab ini, proses pembangunan model dilakukan menggunakan pendekatan *pipeline* pada Scikit-learn untuk mengintegrasikan tahap *preprocessing* dan *training* secara otomatis dalam satu alur kerja. Data yang digunakan terdiri dari variabel kategorik seperti **RestaurantID** dan **MenuCategory** yang dikonversi menjadi bentuk numerik menggunakan teknik *One-Hot Encoding*, serta variabel numerik **Price** yang dinormalisasi menggunakan *Standard Scaler*. Target variabel **Profitability** terlebih dahulu diubah menjadi representasi numerik dengan *Label Encoding*. Selanjutnya, tiga algoritma pembelajaran mesin, yaitu **Decision Tree**, **K-Nearest Neighbors (KNN)**, dan **Artificial Neural Network (ANN)**, diimplementasikan dalam bentuk *pipeline* yang menggabungkan proses *preprocessing* dan pembentukan model. Setelah model dilatih menggunakan data latih, dilakukan evaluasi pada data uji dengan metrik **Accuracy**, **Precision**, **Recall**, dan **F1-Score**. Hasil evaluasi disajikan dalam bentuk tabel ringkasan sehingga memudahkan perbandingan kinerja masing-masing algoritma. Pendekatan ini memastikan bahwa seluruh tahapan analisis berjalan konsisten, efisien, dan terhindar dari potensi *data leakage*.\n"
   ]
  },
  {
   "cell_type": "code",
   "execution_count": 44,
   "id": "083b9a64",
   "metadata": {},
   "outputs": [
    {
     "name": "stdout",
     "output_type": "stream",
     "text": [
      "Mapping target (class -> code): {'High': 0, 'Low': 1, 'Medium': 2}\n",
      "X_train dtypes:\n",
      " RestaurantID     object\n",
      "MenuCategory     object\n",
      "Price           float64\n",
      "dtype: object\n",
      "X_train sample:\n",
      "     RestaurantID MenuCategory  Price\n",
      "441         R003    Beverages   2.85\n",
      "955         R003   Appetizers   8.54\n",
      "98          R003   Appetizers  13.67\n",
      "36          R001     Desserts  11.11\n",
      "887         R001  Main Course  18.24\n",
      "y_train sample (encoded): [1 2 0 2 2 0 0 2 2 1]\n",
      "\n",
      ">>> Training Decision Tree ...\n",
      "=== Decision Tree ===\n",
      "              precision    recall  f1-score   support\n",
      "\n",
      "        High       0.89      0.84      0.87        77\n",
      "         Low       0.78      0.75      0.77        24\n",
      "      Medium       0.88      0.93      0.91        99\n",
      "\n",
      "    accuracy                           0.88       200\n",
      "   macro avg       0.85      0.84      0.85       200\n",
      "weighted avg       0.87      0.88      0.87       200\n",
      "\n",
      "\n",
      ">>> Training KNN ...\n",
      "=== KNN ===\n",
      "              precision    recall  f1-score   support\n",
      "\n",
      "        High       0.92      0.99      0.95        77\n",
      "         Low       0.94      0.62      0.75        24\n",
      "      Medium       0.94      0.96      0.95        99\n",
      "\n",
      "    accuracy                           0.93       200\n",
      "   macro avg       0.93      0.86      0.88       200\n",
      "weighted avg       0.93      0.93      0.93       200\n",
      "\n",
      "\n",
      ">>> Training ANN ...\n",
      "=== ANN ===\n",
      "              precision    recall  f1-score   support\n",
      "\n",
      "        High       0.88      0.91      0.89        77\n",
      "         Low       0.00      0.00      0.00        24\n",
      "      Medium       0.78      0.94      0.85        99\n",
      "\n",
      "    accuracy                           0.81       200\n",
      "   macro avg       0.55      0.62      0.58       200\n",
      "weighted avg       0.72      0.81      0.76       200\n",
      "\n",
      "\n",
      "Summary:\n",
      "           Model  Accuracy  Precision    Recall  F1-Score\n",
      "1            KNN     0.930   0.931252  0.857203  0.883333\n",
      "0  Decision Tree     0.875   0.852545  0.841150  0.846343\n",
      "2            ANN     0.815   0.550000  0.616162  0.580345\n"
     ]
    }
   ],
   "source": [
    "# ------- imports -------\n",
    "import pandas as pd\n",
    "from sklearn.preprocessing import OneHotEncoder, StandardScaler, LabelEncoder\n",
    "from sklearn.compose import ColumnTransformer\n",
    "from sklearn.pipeline import Pipeline\n",
    "from sklearn.model_selection import train_test_split\n",
    "from sklearn.tree import DecisionTreeClassifier\n",
    "from sklearn.neighbors import KNeighborsClassifier\n",
    "from sklearn.neural_network import MLPClassifier\n",
    "from sklearn.metrics import accuracy_score, precision_score, recall_score, f1_score, classification_report\n",
    "\n",
    "# ------- data (asumsi df sudah ter-load & kolom sudah strip) -------\n",
    "# df = pd.read_csv(\"restaurant_menu_optimization_data.csv\")\n",
    "# df.columns = df.columns.str.strip()\n",
    "df = df[['RestaurantID', 'MenuCategory', 'Price', 'Profitability']].dropna().copy()\n",
    "\n",
    "# ------- X, y dan encode target -------\n",
    "X = df[['RestaurantID', 'MenuCategory', 'Price']].copy()\n",
    "y = df['Profitability'].copy()\n",
    "\n",
    "# Pastikan tidak ada whitespace pada kategori\n",
    "X['RestaurantID'] = X['RestaurantID'].astype(str).str.strip()\n",
    "X['MenuCategory'] = X['MenuCategory'].astype(str).str.strip()\n",
    "y = y.astype(str).str.strip()\n",
    "\n",
    "# Encode target jadi numerik (important)\n",
    "le_target = LabelEncoder()\n",
    "y_enc = le_target.fit_transform(y)\n",
    "print(\"Mapping target (class -> code):\", dict(zip(le_target.classes_, le_target.transform(le_target.classes_))))\n",
    "\n",
    "# ------- Split -------\n",
    "X_train, X_test, y_train, y_test = train_test_split(\n",
    "    X, y_enc, test_size=0.2, stratify=y_enc, random_state=42\n",
    ")\n",
    "\n",
    "# Debug: cek dtypes & contoh\n",
    "print(\"X_train dtypes:\\n\", X_train.dtypes)\n",
    "print(\"X_train sample:\\n\", X_train.head())\n",
    "print(\"y_train sample (encoded):\", y_train[:10])\n",
    "\n",
    "# ------- Preprocessor (eksplisit kolom) -------\n",
    "categorical_features = ['RestaurantID', 'MenuCategory']\n",
    "numeric_features = ['Price']\n",
    "\n",
    "preprocessor = ColumnTransformer(\n",
    "    transformers=[\n",
    "        ('num', StandardScaler(), numeric_features),\n",
    "        # gunakan sparse_output=False agar hasilnya dense array (mencegah masalah pada beberapa estimator)\n",
    "        ('cat', OneHotEncoder(handle_unknown='ignore', sparse_output=False), categorical_features)\n",
    "    ]\n",
    ")\n",
    "\n",
    "# ------- Models as Pipeline -------\n",
    "models = {\n",
    "    \"Decision Tree\": Pipeline([('preproc', preprocessor),\n",
    "                                ('clf', DecisionTreeClassifier(random_state=42))]),\n",
    "    \"KNN\": Pipeline([('preproc', preprocessor),\n",
    "                     ('clf', KNeighborsClassifier())]),\n",
    "    \"ANN\": Pipeline([('preproc', preprocessor),\n",
    "                     ('clf', MLPClassifier(random_state=42,\n",
    "                                           max_iter=2000,\n",
    "                                           early_stopping=True,\n",
    "                                           learning_rate_init=0.001))])\n",
    "}\n",
    "\n",
    "# ------- Training & Evaluasi -------\n",
    "eval_results = []\n",
    "for name, model in models.items():\n",
    "    print(f\"\\n>>> Training {name} ...\")\n",
    "    model.fit(X_train, y_train)              # fit with numeric y\n",
    "    y_pred = model.predict(X_test)\n",
    "\n",
    "    acc = accuracy_score(y_test, y_pred)\n",
    "    prec = precision_score(y_test, y_pred, average='macro', zero_division=0)\n",
    "    rec = recall_score(y_test, y_pred, average='macro', zero_division=0)\n",
    "    f1 = f1_score(y_test, y_pred, average='macro', zero_division=0)\n",
    "\n",
    "    # classification_report with target names (human readable)\n",
    "    print(f\"=== {name} ===\")\n",
    "    print(classification_report(y_test, y_pred, target_names=le_target.classes_, zero_division=0))\n",
    "\n",
    "    eval_results.append({\n",
    "        \"Model\": name,\n",
    "        \"Accuracy\": acc,\n",
    "        \"Precision\": prec,\n",
    "        \"Recall\": rec,\n",
    "        \"F1-Score\": f1\n",
    "    })\n",
    "\n",
    "# Tampilkan ringkasan\n",
    "eval_df = pd.DataFrame(eval_results).sort_values(by='Accuracy', ascending=False)\n",
    "print(\"\\nSummary:\")\n",
    "print(eval_df)\n"
   ]
  },
  {
   "cell_type": "markdown",
   "id": "be0c5077",
   "metadata": {},
   "source": [
    "## 3.4 Model Performance Visualization\n",
    "Pada sub bab ini, hasil evaluasi model yang sebelumnya disajikan dalam bentuk tabel diubah menjadi visualisasi grafik batang menggunakan *Seaborn*. Grafik ini menampilkan perbandingan nilai *Accuracy*, *Precision*, *Recall*, dan *F1-Score* untuk setiap model yang diuji, yaitu Decision Tree, KNN, dan ANN. Dengan format *grouped bar*, pembaca dapat dengan mudah melihat model mana yang memiliki performa terbaik pada setiap metrik evaluasi. Visualisasi ini membantu memperjelas perbedaan kinerja antar model, memudahkan interpretasi, dan mendukung proses pengambilan keputusan terkait model yang paling optimal untuk digunakan.\n"
   ]
  },
  {
   "cell_type": "code",
   "execution_count": 45,
   "id": "2c37f2d9",
   "metadata": {},
   "outputs": [
    {
     "data": {
      "image/png": "[encoded data removed]",
      "text/plain": [
       "<Figure size 1000x600 with 1 Axes>"
      ]
     },
     "metadata": {},
     "output_type": "display_data"
    }
   ],
   "source": [
    "import pandas as pd\n",
    "import seaborn as sns\n",
    "import matplotlib.pyplot as plt\n",
    "\n",
    "# Buat DataFrame dari hasil evaluasi\n",
    "results_df = pd.DataFrame(eval_results)\n",
    "\n",
    "# Visualisasi\n",
    "plt.figure(figsize=(10,6))\n",
    "sns.barplot(data=results_df.melt(id_vars=\"Model\"), x=\"variable\", y=\"value\", hue=\"Model\")\n",
    "plt.title(\"Perbandingan Performansi Model\")\n",
    "plt.ylabel(\"Skor\")\n",
    "plt.xlabel(\"Metric\")\n",
    "plt.ylim(0, 1)\n",
    "plt.legend(title=\"Model\")\n",
    "plt.tight_layout()\n",
    "plt.show()\n"
   ]
  },
  {
   "cell_type": "markdown",
   "id": "357d4a78",
   "metadata": {},
   "source": [
    "## 3.5 Hyperparameter Optimization with Grid Search\n",
    "Pada tahap ini dilakukan optimasi *hyperparameter* untuk model *Decision Tree* menggunakan teknik *Grid Search* dengan *cross-validation* (*cv*=5). Proses ini bertujuan mencari kombinasi parameter terbaik yang menghasilkan performa model paling optimal. Dua parameter utama yang diuji adalah `max_depth` (kedalaman maksimum pohon keputusan) dan `min_samples_split` (jumlah minimum sampel yang diperlukan untuk memecah node). Pipeline digunakan untuk memastikan proses *preprocessing* seperti *One-Hot Encoding* pada variabel kategorik dan *passthrough* pada variabel numerik dilakukan secara konsisten di setiap fold *cross-validation*. Hasil akhir dari *Grid Search* memberikan *best parameters* yang akan digunakan pada model agar akurasi prediksi meningkat dibandingkan parameter default.\n"
   ]
  },
  {
   "cell_type": "code",
   "execution_count": 46,
   "id": "81e2bee4",
   "metadata": {},
   "outputs": [
    {
     "name": "stdout",
     "output_type": "stream",
     "text": [
      "Best params: {'model__max_depth': 5, 'model__min_samples_split': 2}\n"
     ]
    }
   ],
   "source": [
    "from sklearn.preprocessing import OneHotEncoder\n",
    "from sklearn.compose import ColumnTransformer\n",
    "from sklearn.pipeline import Pipeline\n",
    "from sklearn.model_selection import GridSearchCV\n",
    "\n",
    "# Gunakan kolom kategorik dan numerik yang benar\n",
    "categorical_cols = ['RestaurantID', 'MenuCategory']\n",
    "numeric_cols = ['Price']\n",
    "\n",
    "# Transformer\n",
    "preprocessor = ColumnTransformer([\n",
    "    ('cat', OneHotEncoder(handle_unknown='ignore'), categorical_cols),\n",
    "    ('num', 'passthrough', numeric_cols)\n",
    "])\n",
    "\n",
    "# Pipeline dengan preprocessing\n",
    "dt_pipeline = Pipeline([\n",
    "    ('preprocessor', preprocessor),\n",
    "    ('model', DecisionTreeClassifier(random_state=42))\n",
    "])\n",
    "\n",
    "# Grid search\n",
    "dt_grid = GridSearchCV(dt_pipeline, {\n",
    "    'model__max_depth': [3, 5, 10, None],\n",
    "    'model__min_samples_split': [2, 3, 10]\n",
    "}, cv=5, scoring='accuracy')\n",
    "\n",
    "dt_grid.fit(X_train, y_train)\n",
    "\n",
    "print(\"Best params:\", dt_grid.best_params_)\n"
   ]
  },
  {
   "cell_type": "markdown",
   "id": "a7d8c8c5",
   "metadata": {},
   "source": [
    "### 3.6 Hyperparameter Adjustment in the K-Nearest Neighbors Model\n",
    "Pada tahap ini, dilakukan proses hyperparameter tuning untuk mencari kombinasi parameter terbaik pada model K-Nearest Neighbors (KNN). Hyperparameter tuning bertujuan untuk mengoptimalkan performa model dengan memilih nilai parameter yang menghasilkan akurasi terbaik pada data pelatihan melalui validasi silang (cross-validation)."
   ]
  },
  {
   "cell_type": "code",
   "execution_count": 47,
   "id": "3bed6647",
   "metadata": {},
   "outputs": [
    {
     "name": "stdout",
     "output_type": "stream",
     "text": [
      "Best KNN Params: {'model__n_neighbors': 50, 'model__weights': 'distance'}\n"
     ]
    }
   ],
   "source": [
    "from sklearn.pipeline import Pipeline\n",
    "\n",
    "# Gunakan preprocessor yang sudah ada\n",
    "knn_pipeline = Pipeline([\n",
    "    ('preprocessor', preprocessor),\n",
    "    ('model', KNeighborsClassifier())\n",
    "])\n",
    "\n",
    "knn_params = {\n",
    "    'model__n_neighbors': [30, 50, 70, 90],\n",
    "    'model__weights': ['uniform', 'distance']\n",
    "}\n",
    "\n",
    "knn_grid = GridSearchCV(knn_pipeline, knn_params, cv=5, scoring='accuracy')\n",
    "knn_grid.fit(X_train, y_train)\n",
    "\n",
    "print(\"Best KNN Params:\", knn_grid.best_params_)\n"
   ]
  },
  {
   "cell_type": "markdown",
   "id": "cfbd8fd4",
   "metadata": {},
   "source": [
    "### 3.7 Comparison and Selection of Classification Models with Hyperparameter Tuning\n",
    "Pada tahap ini dilakukan pelatihan dan pengoptimalan beberapa model klasifikasi populer, yaitu Decision Tree, K-Nearest Neighbors (KNN), dan Artificial Neural Network (ANN), menggunakan teknik hyperparameter tuning dengan GridSearchCV. Data yang digunakan terdiri dari fitur kategorik seperti `RestaurantID` dan `MenuCategory`, serta fitur numerik `Price`. Untuk mengolah data ini, fitur kategorik diubah menjadi representasi numerik menggunakan One-Hot Encoding, sedangkan fitur numerik dinormalisasi dengan StandardScaler agar rentang nilainya seragam dan model dapat belajar lebih optimal. Masing-masing model dilatih dengan berbagai kombinasi parameter yang diuji melalui validasi silang (cross-validation) sebanyak lima kali lipat (5-fold). Pada Decision Tree, parameter seperti kedalaman pohon (`max_depth`) dan jumlah minimum sampel untuk membagi node (`min_samples_split`) disesuaikan, sedangkan pada KNN dilakukan pencarian jumlah tetangga terbaik (`n_neighbors`) dan metode pemberian bobot (`weights`). Untuk ANN, tuning dilakukan pada konfigurasi jumlah neuron di hidden layer (`hidden_layer_sizes`), fungsi aktivasi (`activation`), dan algoritma optimasi (`solver`). Tujuan utama dari proses ini adalah untuk menemukan konfigurasi parameter terbaik yang memberikan akurasi tertinggi sehingga model dapat melakukan prediksi dengan lebih baik dan generalisasi yang kuat. Setelah pelatihan dan tuning selesai, parameter terbaik serta skor akurasi terbaik dari masing-masing model dicetak sebagai acuan dalam memilih model klasifikasi yang paling sesuai untuk masalah yang dihadapi. Dengan demikian, proses ini tidak hanya mengoptimalkan performa model, tetapi juga memberikan perbandingan objektif antara tiga algoritma yang berbeda sehingga keputusan pemilihan model dapat dilakukan secara tepat dan berbasis data."
   ]
  },
  {
   "cell_type": "code",
   "execution_count": 48,
   "id": "2a7eb76f",
   "metadata": {},
   "outputs": [
    {
     "name": "stdout",
     "output_type": "stream",
     "text": [
      "Best Decision Tree Params: {'model__max_depth': 5, 'model__min_samples_split': 2}\n",
      "Best Decision Tree Score : 0.9075000000000001\n",
      "Best KNN Params: {'model__n_neighbors': 5, 'model__weights': 'uniform'}\n",
      "Best KNN Score : 0.905\n",
      "Best ANN Params: {'model__activation': 'relu', 'model__hidden_layer_sizes': (100, 50), 'model__solver': 'adam'}\n",
      "Best ANN Score : 0.8162500000000001\n"
     ]
    }
   ],
   "source": [
    "from sklearn.model_selection import GridSearchCV\n",
    "from sklearn.pipeline import Pipeline\n",
    "from sklearn.compose import ColumnTransformer\n",
    "from sklearn.preprocessing import OneHotEncoder, StandardScaler\n",
    "from sklearn.tree import DecisionTreeClassifier\n",
    "from sklearn.neighbors import KNeighborsClassifier\n",
    "from sklearn.neural_network import MLPClassifier\n",
    "\n",
    "# --- 1. Definisikan kolom numerik dan kategorik ---\n",
    "categorical_cols = ['RestaurantID', 'MenuCategory']\n",
    "numeric_cols = ['Price']\n",
    "\n",
    "# --- 2. Preprocessor: OHE untuk kategorik, StandardScaler untuk numerik ---\n",
    "preprocessor = ColumnTransformer([\n",
    "    ('cat', OneHotEncoder(handle_unknown='ignore'), categorical_cols),\n",
    "    ('num', StandardScaler(), numeric_cols)\n",
    "])\n",
    "\n",
    "# --- 3. Decision Tree ---\n",
    "dt_pipeline = Pipeline([\n",
    "    ('preprocessor', preprocessor),\n",
    "    ('model', DecisionTreeClassifier(random_state=42))\n",
    "])\n",
    "dt_params = {\n",
    "    'model__max_depth': [None, 5, 10, 20],\n",
    "    'model__min_samples_split': [2, 5, 10]\n",
    "}\n",
    "dt_grid = GridSearchCV(dt_pipeline, dt_params, cv=5, scoring='accuracy')\n",
    "# Gunakan target yang sudah di-encode (numeric)\n",
    "dt_grid.fit(X_train, y_train)\n",
    "\n",
    "# --- 4. KNN ---\n",
    "knn_pipeline = Pipeline([\n",
    "    ('preprocessor', preprocessor),\n",
    "    ('model', KNeighborsClassifier())\n",
    "])\n",
    "knn_params = {\n",
    "    'model__n_neighbors': [3, 5, 7, 9],\n",
    "    'model__weights': ['uniform', 'distance']\n",
    "}\n",
    "knn_grid = GridSearchCV(knn_pipeline, knn_params, cv=5, scoring='accuracy')\n",
    "knn_grid.fit(X_train, y_train)\n",
    "\n",
    "# --- 5. ANN ---\n",
    "ann_pipeline = Pipeline([\n",
    "    ('preprocessor', preprocessor),\n",
    "    ('model', MLPClassifier(\n",
    "        max_iter=2000,\n",
    "        early_stopping=True,\n",
    "        n_iter_no_change=20,\n",
    "        learning_rate_init=0.001,\n",
    "        random_state=42\n",
    "    ))\n",
    "])\n",
    "ann_params = {\n",
    "    'model__hidden_layer_sizes': [(50,), (100,), (100, 50)],\n",
    "    'model__activation': ['relu', 'tanh'],\n",
    "    'model__solver': ['adam', 'sgd']\n",
    "}\n",
    "ann_grid = GridSearchCV(ann_pipeline, ann_params, cv=5, scoring='accuracy')\n",
    "ann_grid.fit(X_train, y_train)\n",
    "\n",
    "# --- 6. Cetak hasil terbaik ---\n",
    "print(\"Best Decision Tree Params:\", dt_grid.best_params_)\n",
    "print(\"Best Decision Tree Score :\", dt_grid.best_score_)\n",
    "\n",
    "print(\"Best KNN Params:\", knn_grid.best_params_)\n",
    "print(\"Best KNN Score :\", knn_grid.best_score_)\n",
    "\n",
    "print(\"Best ANN Params:\", ann_grid.best_params_)\n",
    "print(\"Best ANN Score :\", ann_grid.best_score_)\n"
   ]
  },
  {
   "cell_type": "markdown",
   "id": "5641bcd7",
   "metadata": {},
   "source": [
    "## 3.8 Evaluating Model Performance with Cross-Validation\n",
    "\n",
    "Setelah menemukan parameter terbaik untuk masing-masing model melalui GridSearchCV, langkah selanjutnya adalah melakukan evaluasi performa model secara lebih menyeluruh menggunakan teknik cross-validation. Pada tahap ini, best estimator dari masing-masing model Decision Tree, K-Nearest Neighbors (KNN), dan Artificial Neural Network (ANN) digunakan untuk menghitung akurasi rata-rata beserta standar deviasinya dengan validasi silang 5-fold. Proses ini bertujuan untuk menilai stabilitas dan kemampuan generalisasi model terhadap data yang belum pernah dilihat sebelumnya. Dengan menggunakan target yang telah di-encode secara numerik (`y_enc`), cross-validation memberikan gambaran yang lebih objektif dan robust mengenai kinerja model di berbagai subset data. Hasil dari evaluasi ini berupa nilai rata-rata akurasi dan deviasi standarnya, yang memudahkan perbandingan performa ketiga model secara kuantitatif. Dengan demikian, proses cross-validation pada best estimator ini memastikan bahwa model yang dipilih tidak hanya optimal pada data pelatihan, tetapi juga konsisten dan dapat diandalkan ketika diterapkan pada data baru.\n"
   ]
  },
  {
   "cell_type": "code",
   "execution_count": 49,
   "id": "15e69a00",
   "metadata": {},
   "outputs": [
    {
     "name": "stdout",
     "output_type": "stream",
     "text": [
      "Decision Tree Cross-Validation Accuracy: 0.9100 ± 0.0239\n",
      "KNN Cross-Validation Accuracy: 0.9070 ± 0.0140\n",
      "ANN Cross-Validation Accuracy: 0.8570 ± 0.0392\n"
     ]
    }
   ],
   "source": [
    "from sklearn.model_selection import cross_val_score\n",
    "\n",
    "# Gunakan best estimator dari hasil GridSearch\n",
    "for name, model in zip(\n",
    "    [\"Decision Tree\", \"KNN\", \"ANN\"],\n",
    "    [dt_grid.best_estimator_, knn_grid.best_estimator_, ann_grid.best_estimator_]\n",
    "):\n",
    "    # Use y_enc (numeric target) for cross_val_score\n",
    "    scores = cross_val_score(model, X, y_enc, cv=5, scoring='accuracy')\n",
    "    print(f\"{name} Cross-Validation Accuracy: {scores.mean():.4f} ± {scores.std():.4f}\")\n"
   ]
  },
  {
   "cell_type": "markdown",
   "id": "43a42114",
   "metadata": {},
   "source": [
    "Berdasarkan hasil evaluasi performa model menggunakan cross-validation, saya memilih untuk menggunakan algoritma K-Nearest Neighbors (KNN) sebagai model klasifikasi utama. KNN menunjukkan akurasi yang cukup tinggi sebesar 90,7% dengan variasi performa yang kecil, yang mengindikasikan kestabilan model dalam melakukan prediksi pada data baru. Selain itu, KNN relatif mudah diinterpretasikan karena prinsip kerjanya yang sederhana, yaitu mengklasifikasikan data berdasarkan kemiripan dengan tetangga terdekat dalam ruang fitur. Dalam konteks dataset restoran dan menu, KNN akan memprediksi kategori berdasarkan data restoran dan menu yang paling mirip secara fitur numerik dan kategorik. Sebagai langkah pengembangan selanjutnya, model KNN dapat ditingkatkan dengan mengoptimalkan parameter lebih lanjut, misalnya jumlah tetangga yang lebih variatif atau penggunaan teknik pengurangan dimensi untuk mempercepat proses prediksi. Selain itu, model ini siap untuk diimplementasikan pada sistem produksi agar dapat memberikan rekomendasi atau prediksi yang akurat secara real-time."
   ]
  },
  {
   "cell_type": "markdown",
   "id": "146a4259",
   "metadata": {},
   "source": [
    "## 3.9 Evaluating Models with Complete Classification Metrics\n",
    "Setelah melakukan pelatihan dan pemilihan model terbaik, tahap selanjutnya adalah mengevaluasi performa model menggunakan berbagai metrik klasifikasi yang lebih komprehensif. Evaluasi ini tidak hanya menggunakan akurasi sebagai ukuran utama, tetapi juga mempertimbangkan precision, recall, dan F1-score untuk mendapatkan gambaran yang lebih lengkap tentang kemampuan model dalam mengklasifikasikan setiap kelas secara tepat.\n",
    "\n",
    "Metrik yang dihitung meliputi:\n",
    "\n",
    "| Metrik      | Penjelasan                                                                                  |\n",
    "|-------------|--------------------------------------------------------------------------------------------|\n",
    "| Accuracy    | Proporsi prediksi yang benar dari seluruh data uji.                                        |\n",
    "| Precision   | Kemampuan model dalam memprediksi kelas positif dengan benar di seluruh kelas (macro avg).  |\n",
    "| Recall      | Kemampuan model dalam menangkap semua data positif dari tiap kelas (macro avg).            |\n",
    "| F1-Score    | Rata-rata harmonis dari precision dan recall, memberikan keseimbangan antara keduanya.     |\n"
   ]
  },
  {
   "cell_type": "code",
   "execution_count": 50,
   "id": "9e25e215",
   "metadata": {},
   "outputs": [
    {
     "name": "stdout",
     "output_type": "stream",
     "text": [
      "\n",
      ">>> Training Decision Tree ...\n",
      "\n",
      ">>> Training KNN ...\n",
      "\n",
      ">>> Training ANN ...\n"
     ]
    },
    {
     "data": {
      "text/html": [
       "<div>\n",
       "<style scoped>\n",
       "    .dataframe tbody tr th:only-of-type {\n",
       "        vertical-align: middle;\n",
       "    }\n",
       "\n",
       "    .dataframe tbody tr th {\n",
       "        vertical-align: top;\n",
       "    }\n",
       "\n",
       "    .dataframe thead th {\n",
       "        text-align: right;\n",
       "    }\n",
       "</style>\n",
       "<table border=\"1\" class=\"dataframe\">\n",
       "  <thead>\n",
       "    <tr style=\"text-align: right;\">\n",
       "      <th></th>\n",
       "      <th>Model</th>\n",
       "      <th>Accuracy</th>\n",
       "      <th>Precision</th>\n",
       "      <th>Recall</th>\n",
       "      <th>F1-Score</th>\n",
       "    </tr>\n",
       "  </thead>\n",
       "  <tbody>\n",
       "    <tr>\n",
       "      <th>1</th>\n",
       "      <td>KNN</td>\n",
       "      <td>0.930</td>\n",
       "      <td>0.931252</td>\n",
       "      <td>0.857203</td>\n",
       "      <td>0.883333</td>\n",
       "    </tr>\n",
       "    <tr>\n",
       "      <th>0</th>\n",
       "      <td>Decision Tree</td>\n",
       "      <td>0.875</td>\n",
       "      <td>0.852545</td>\n",
       "      <td>0.841150</td>\n",
       "      <td>0.846343</td>\n",
       "    </tr>\n",
       "    <tr>\n",
       "      <th>2</th>\n",
       "      <td>ANN</td>\n",
       "      <td>0.815</td>\n",
       "      <td>0.550000</td>\n",
       "      <td>0.616162</td>\n",
       "      <td>0.580345</td>\n",
       "    </tr>\n",
       "  </tbody>\n",
       "</table>\n",
       "</div>"
      ],
      "text/plain": [
       "           Model  Accuracy  Precision    Recall  F1-Score\n",
       "1            KNN     0.930   0.931252  0.857203  0.883333\n",
       "0  Decision Tree     0.875   0.852545  0.841150  0.846343\n",
       "2            ANN     0.815   0.550000  0.616162  0.580345"
      ]
     },
     "metadata": {},
     "output_type": "display_data"
    }
   ],
   "source": [
    "from sklearn.metrics import accuracy_score, precision_score, recall_score, f1_score\n",
    "import numpy as np\n",
    "import pandas as pd\n",
    "from sklearn.preprocessing import LabelEncoder\n",
    "\n",
    "# Inisialisasi LabelEncoder untuk target\n",
    "le_target = LabelEncoder()\n",
    "y_train_encoded = le_target.fit_transform(y_train)\n",
    "y_test_encoded = le_target.transform(y_test)\n",
    "\n",
    "eval_results = []\n",
    "\n",
    "for name, model in models.items():\n",
    "    print(f\"\\n>>> Training {name} ...\")\n",
    "    \n",
    "    # Gunakan y_train_encoded untuk training\n",
    "    model.fit(X_train, y_train_encoded)\n",
    "    \n",
    "    # Prediksi\n",
    "    y_pred = model.predict(X_test)\n",
    "    \n",
    "    # Untuk model ANN, ambil class dengan probabilitas tertinggi\n",
    "    if name == \"ANN (MLPClassifier)\":\n",
    "        y_pred = np.argmax(y_pred, axis=1)\n",
    "    \n",
    "    # Hitung metrik\n",
    "    acc = accuracy_score(y_test_encoded, y_pred)\n",
    "    prec = precision_score(y_test_encoded, y_pred, average='macro', zero_division=0)\n",
    "    rec = recall_score(y_test_encoded, y_pred, average='macro', zero_division=0)\n",
    "    f1 = f1_score(y_test_encoded, y_pred, average='macro', zero_division=0)\n",
    "\n",
    "    eval_results.append({\n",
    "        \"Model\": name,\n",
    "        \"Accuracy\": acc,\n",
    "        \"Precision\": prec,\n",
    "        \"Recall\": rec,\n",
    "        \"F1-Score\": f1\n",
    "    })\n",
    "\n",
    "results_df = pd.DataFrame(eval_results)\n",
    "display(results_df.sort_values(by=\"Accuracy\", ascending=False))"
   ]
  },
  {
   "cell_type": "markdown",
   "id": "b3be492f",
   "metadata": {},
   "source": [
    "Berdasarkan hasil evaluasi performa model menggunakan metrik akurasi, precision, recall, dan F1-score, model K-Nearest Neighbors (KNN) menunjukkan performa terbaik di antara ketiga model yang diuji. KNN berhasil mencapai akurasi sebesar 93,0%, dengan nilai precision dan recall yang cukup tinggi masing-masing sebesar 93,1% dan 85,7%, serta F1-score sebesar 88,3%. Hal ini menandakan bahwa KNN tidak hanya mampu memprediksi sebagian besar data dengan benar, tetapi juga memiliki keseimbangan yang baik antara kemampuan mengenali data positif dan menghindari kesalahan klasifikasi. Sementara itu, Decision Tree memperoleh akurasi 87,5% dengan precision dan recall yang juga relatif tinggi, namun masih lebih rendah dibanding KNN. Model Artificial Neural Network (ANN) menunjukkan performa yang paling rendah dengan akurasi 81,5% dan nilai precision serta recall yang lebih rendah, mengindikasikan bahwa ANN kurang optimal untuk dataset ini dalam konfigurasi saat ini. Berdasarkan hasil ini, KNN merupakan pilihan model yang paling unggul untuk masalah klasifikasi pada dataset restoran dan menu, karena memberikan hasil yang lebih akurat dan seimbang dalam berbagai metrik evaluasi.\n",
    "\n"
   ]
  },
  {
   "cell_type": "markdown",
   "id": "6a855b69",
   "metadata": {},
   "source": [
    "## 3.10 Summary of the Best Classification Model Parameters\n",
    "Setelah melakukan proses hyperparameter tuning menggunakan GridSearchCV untuk setiap model klasifikasi, tahap berikutnya adalah merangkum dan menyajikan parameter terbaik yang diperoleh untuk masing-masing model. Parameter ini merupakan konfigurasi yang memberikan performa optimal berdasarkan validasi silang selama pelatihan. Pada model Decision Tree, parameter seperti max_depth dan min_samples_split disesuaikan untuk mengatur kompleksitas pohon dan cara pemisahan data. Model K-Nearest Neighbors (KNN) dioptimasi melalui pemilihan jumlah tetangga terbaik (n_neighbors) dan metode pemberian bobot (weights). Sedangkan pada model Artificial Neural Network (ANN), parameter terkait ukuran lapisan tersembunyi (hidden_layer_sizes), fungsi aktivasi (activation), dan algoritma optimasi (solver) ditentukan sebagai konfigurasi terbaik. Penyajian ringkasan parameter ini dalam bentuk tabel memudahkan perbandingan dan dokumentasi hasil tuning, sehingga dapat menjadi referensi utama dalam implementasi model lebih lanjut. Dengan mengetahui konfigurasi terbaik, proses pelatihan ulang dan deployment model dapat dilakukan secara lebih efisien dan terarah."
   ]
  },
  {
   "cell_type": "code",
   "execution_count": 51,
   "id": "0a5bbafa",
   "metadata": {},
   "outputs": [
    {
     "data": {
      "text/html": [
       "<div>\n",
       "<style scoped>\n",
       "    .dataframe tbody tr th:only-of-type {\n",
       "        vertical-align: middle;\n",
       "    }\n",
       "\n",
       "    .dataframe tbody tr th {\n",
       "        vertical-align: top;\n",
       "    }\n",
       "\n",
       "    .dataframe thead th {\n",
       "        text-align: right;\n",
       "    }\n",
       "</style>\n",
       "<table border=\"1\" class=\"dataframe\">\n",
       "  <thead>\n",
       "    <tr style=\"text-align: right;\">\n",
       "      <th></th>\n",
       "      <th>Model</th>\n",
       "      <th>Best Params</th>\n",
       "    </tr>\n",
       "  </thead>\n",
       "  <tbody>\n",
       "    <tr>\n",
       "      <th>0</th>\n",
       "      <td>Decision Tree</td>\n",
       "      <td>{'model__max_depth': 5, 'model__min_samples_sp...</td>\n",
       "    </tr>\n",
       "    <tr>\n",
       "      <th>1</th>\n",
       "      <td>KNN</td>\n",
       "      <td>{'model__n_neighbors': 5, 'model__weights': 'u...</td>\n",
       "    </tr>\n",
       "    <tr>\n",
       "      <th>2</th>\n",
       "      <td>ANN</td>\n",
       "      <td>{'model__activation': 'relu', 'model__hidden_l...</td>\n",
       "    </tr>\n",
       "  </tbody>\n",
       "</table>\n",
       "</div>"
      ],
      "text/plain": [
       "           Model                                        Best Params\n",
       "0  Decision Tree  {'model__max_depth': 5, 'model__min_samples_sp...\n",
       "1            KNN  {'model__n_neighbors': 5, 'model__weights': 'u...\n",
       "2            ANN  {'model__activation': 'relu', 'model__hidden_l..."
      ]
     },
     "metadata": {},
     "output_type": "display_data"
    }
   ],
   "source": [
    "dt_best = dt_grid.best_params_\n",
    "knn_best = knn_grid.best_params_\n",
    "ann_best = ann_grid.best_params_\n",
    "\n",
    "param_df = pd.DataFrame([\n",
    "    {\"Model\": \"Decision Tree\", \"Best Params\": dt_best},\n",
    "    {\"Model\": \"KNN\", \"Best Params\": knn_best},\n",
    "    {\"Model\": \"ANN\", \"Best Params\": ann_best}\n",
    "])\n",
    "\n",
    "display(param_df)\n"
   ]
  },
  {
   "cell_type": "markdown",
   "id": "09d638fd",
   "metadata": {},
   "source": [
    "# 4. Model Selection and Deployment\n",
    "Setelah melalui serangkaian proses pelatihan, tuning, dan evaluasi model klasifikasi, tahap selanjutnya adalah memilih model terbaik untuk digunakan dalam aplikasi nyata dan menyiapkan proses deployment. Berdasarkan hasil evaluasi komprehensif, saya memutuskan untuk menggunakan model K-Nearest Neighbors (KNN) sebagai model utama. Pemilihan KNN didasarkan pada beberapa pertimbangan penting, seperti akurasi yang tinggi, kestabilan performa melalui validasi silang, serta kemudahan interpretasi dan implementasi. Model KNN sangat cocok untuk dataset restoran dan menu karena mampu memanfaatkan kemiripan fitur numerik dan kategorik untuk memberikan prediksi yang akurat tanpa asumsi yang rumit tentang distribusi data. Selain itu, KNN juga fleksibel dalam menangani berbagai variasi data dan mudah dioptimalkan dengan parameter sederhana, sehingga menjadi pilihan yang efektif dan efisien dalam konteks permasalahan ini. Pada tahap deployment, model KNN akan disiapkan agar dapat digunakan untuk prediksi secara real-time atau dalam sistem rekomendasi yang mendukung keputusan bisnis restoran."
   ]
  },
  {
   "cell_type": "markdown",
   "id": "86848d56",
   "metadata": {},
   "source": [
    "## 4.1 Data Preparation, Pipeline Creation, and Model Storage\n",
    "Pada tahap ini, dilakukan persiapan data dan pembuatan pipeline model K-Nearest Neighbors (KNN) yang siap untuk deployment. Pertama, data dimuat dari file CSV dan kolom-kolom yang relevan yaitu RestaurantID, MenuCategory, Price, dan target Profitability dipilih dan dibersihkan dari nilai kosong. Data kemudian dibagi menjadi data latih dan data uji dengan perbandingan 80:20 menggunakan stratifikasi berdasarkan kelas target untuk menjaga proporsi distribusi kelas tetap seimbang. Selanjutnya, dibuat pipeline yang menggabungkan proses preprocessing dan model. Pada preprocessing, fitur kategorik di-encode menggunakan One-Hot Encoder dengan penanganan kategori baru yang mungkin muncul, sementara fitur numerik dibiarkan apa adanya (passthrough). Model KNN dipilih dengan parameter terbaik hasil tuning sebelumnya, yaitu jumlah tetangga sebanyak 5 dan bobot berdasarkan jarak (weights='distance'). Pipeline ini dilatih menggunakan data latih yang telah dipersiapkan. Setelah proses pelatihan selesai, pipeline yang berisi seluruh rangkaian preprocessing dan model disimpan dalam file knn_pipeline.pkl menggunakan modul pickle. File ini nantinya dapat digunakan untuk deployment model agar proses prediksi dapat dilakukan secara efisien dan konsisten tanpa perlu membangun ulang preprocessing dan model dari awal."
   ]
  },
  {
   "cell_type": "code",
   "execution_count": 52,
   "id": "66495b08",
   "metadata": {},
   "outputs": [
    {
     "name": "stdout",
     "output_type": "stream",
     "text": [
      "✅ Pipeline KNN disimpan sebagai 'knn_pipeline.pkl'\n"
     ]
    }
   ],
   "source": [
    "import pandas as pd\n",
    "from sklearn.model_selection import train_test_split\n",
    "from sklearn.preprocessing import OneHotEncoder\n",
    "from sklearn.compose import ColumnTransformer\n",
    "from sklearn.pipeline import Pipeline\n",
    "from sklearn.neighbors import KNeighborsClassifier\n",
    "import pickle\n",
    "\n",
    "# ===== 1. Load data =====\n",
    "df = pd.read_csv(\"restaurant_menu_optimization_data.csv\")\n",
    "df.columns = df.columns.str.strip()\n",
    "\n",
    "# Pilih variabel yang digunakan\n",
    "df = df[['RestaurantID', 'MenuCategory', 'Price', 'Profitability']].dropna()\n",
    "\n",
    "# ===== 2. Split data =====\n",
    "X = df[['RestaurantID', 'MenuCategory', 'Price']]\n",
    "y = df['Profitability']\n",
    "\n",
    "X_train, X_test, y_train, y_test = train_test_split(\n",
    "    X, y, test_size=0.2, stratify=y, random_state=42\n",
    ")\n",
    "\n",
    "# ===== 3. Buat pipeline =====\n",
    "# Encoder untuk kolom kategori\n",
    "categorical_features = ['RestaurantID', 'MenuCategory']\n",
    "numeric_features = ['Price']\n",
    "\n",
    "preprocessor = ColumnTransformer(\n",
    "    transformers=[\n",
    "        ('cat', OneHotEncoder(handle_unknown='ignore'), categorical_features),\n",
    "        ('num', 'passthrough', numeric_features)\n",
    "    ]\n",
    ")\n",
    "\n",
    "# Model KNN dengan parameter terbaikmu\n",
    "knn = KNeighborsClassifier(n_neighbors=5, weights='distance')\n",
    "\n",
    "# Gabungkan preprocessor + model\n",
    "pipeline = Pipeline(steps=[\n",
    "    ('preprocessor', preprocessor),\n",
    "    ('model', knn)\n",
    "])\n",
    "\n",
    "# ===== 4. Latih model =====\n",
    "pipeline.fit(X_train, y_train)\n",
    "\n",
    "# ===== 5. Simpan pipeline =====\n",
    "with open(\"knn_pipeline.pkl\", \"wb\") as f:\n",
    "    pickle.dump(pipeline, f)\n",
    "\n",
    "print(\"✅ Pipeline KNN disimpan sebagai 'knn_pipeline.pkl'\")\n"
   ]
  },
  {
   "cell_type": "markdown",
   "id": "4ad208d3",
   "metadata": {},
   "source": [
    "## 4.2 Implementation of Prediction Functions Using KNN Models\n",
    "Setelah pipeline model KNN selesai dibuat dan disimpan, tahap selanjutnya adalah mengimplementasikan fungsi prediksi yang dapat digunakan untuk memproses data baru secara langsung. Fungsi predict_profitability menerima input berupa restaurant_id, menu_category, dan price yang mewakili fitur-fitur utama dalam dataset. Input ini terlebih dahulu dibersihkan dari spasi yang tidak diperlukan untuk memastikan konsistensi data. Kemudian, data input tersebut dibungkus ke dalam format DataFrame agar sesuai dengan struktur fitur yang digunakan oleh pipeline. Pipeline KNN yang telah disimpan sebelumnya di-load menggunakan modul pickle, sehingga seluruh rangkaian preprocessing dan model dapat langsung dipakai tanpa perlu membangun ulang. Fungsi ini kemudian mengembalikan prediksi kelas profitability berdasarkan input yang diberikan. Contoh pemanggilan fungsi menunjukkan bagaimana prediksi dapat dilakukan untuk suatu restoran dan kategori menu tertentu dengan harga tertentu. Dengan adanya fungsi ini, proses prediksi menjadi lebih praktis dan siap diintegrasikan ke dalam aplikasi atau sistem produksi yang memerlukan keputusan prediktif secara real-time.\n",
    "\n"
   ]
  },
  {
   "cell_type": "code",
   "execution_count": 53,
   "id": "1ed48368",
   "metadata": {},
   "outputs": [
    {
     "name": "stdout",
     "output_type": "stream",
     "text": [
      "Prediksi Profitability: High\n"
     ]
    }
   ],
   "source": [
    "import pandas as pd\n",
    "import pickle\n",
    "\n",
    "def predict_profitability(restaurant_id, menu_category, price):\n",
    "    # Strip whitespace from inputs\n",
    "    restaurant_id = restaurant_id.strip()\n",
    "    menu_category = menu_category.strip()\n",
    "\n",
    "    # Buat DataFrame sesuai fitur pipeline\n",
    "    new_data = pd.DataFrame({\n",
    "        'RestaurantID': [restaurant_id],\n",
    "        'MenuCategory': [menu_category],\n",
    "        'Price': [price]\n",
    "    })\n",
    "\n",
    "    # Load pipeline KNN yang benar\n",
    "    with open(\"knn_pipeline.pkl\", \"rb\") as f:\n",
    "        model = pickle.load(f)\n",
    "\n",
    "    # Prediksi\n",
    "    prediction = model.predict(new_data)[0]\n",
    "    return prediction\n",
    "\n",
    "# 🔹 Contoh prediksi\n",
    "hasil_prediksi = predict_profitability('R001', \"Desserts \", 89.9)\n",
    "print(f\"Prediksi Profitability: {hasil_prediksi}\")\n"
   ]
  },
  {
   "cell_type": "markdown",
   "id": "1f3b6dea",
   "metadata": {},
   "source": [
    "## 4.3 Label Encoder Storage for Encoding Consistency\n",
    "Dalam proses pengolahan data, khususnya pada variabel target dan fitur kategorik, digunakan teknik label encoding untuk mengubah data kategorik menjadi format numerik yang dapat dipahami oleh model. Agar proses encoding ini konsisten antara tahap pelatihan dan saat model digunakan untuk prediksi pada data baru, objek label encoder yang telah dilatih perlu disimpan secara terpisah. Pada tahap ini, dictionary yang berisi beberapa label encoder, yaitu untuk kolom restoran (le_restaurant), kategori menu (le_category), dan target profitabilitas (le_profit), disimpan ke dalam sebuah file bernama label_encoder.pkl menggunakan modul pickle. Penyimpanan label encoder ini memastikan bahwa transformasi data kategorik dilakukan dengan skema yang sama selama deployment, sehingga hasil prediksi dapat lebih akurat dan valid. File encoder ini dapat di-load kembali saat proses prediksi atau saat integrasi model ke dalam sistem produksi."
   ]
  },
  {
   "cell_type": "code",
   "execution_count": 54,
   "id": "d8c85cf6",
   "metadata": {},
   "outputs": [],
   "source": [
    "import pickle\n",
    "\n",
    "# Simpan label encoder dictionary\n",
    "label_encoders = {\n",
    "    \"restaurant\": le_restaurant,\n",
    "    \"category\": le_category,\n",
    "    \"profit\": le_profit\n",
    "}\n",
    "\n",
    "with open(\"label_encoder.pkl\", \"wb\") as f:\n",
    "    pickle.dump(label_encoders, f)\n"
   ]
  },
  {
   "cell_type": "markdown",
   "id": "477e10bb",
   "metadata": {},
   "source": [
    "## 4.4 Development of a Restaurant Profitability Prediction Application with Streamlit\n",
    "Untuk memudahkan pengguna dalam memanfaatkan model K-Nearest Neighbors (KNN) yang telah dibangun, dilakukan pengembangan aplikasi web interaktif menggunakan framework Streamlit. Aplikasi ini menyediakan antarmuka sederhana bagi pengguna untuk memasukkan informasi restoran berupa ID restoran, kategori menu, dan harga produk secara langsung. Model dan label encoder yang telah disimpan sebelumnya di-load pada awal aplikasi agar seluruh proses preprocessing dan prediksi dapat berjalan otomatis. Saat pengguna mengisi form dan menekan tombol prediksi, aplikasi akan melakukan encoding pada input menggunakan label encoder yang sesuai, lalu memproses data melalui pipeline model untuk menghasilkan prediksi kelas profitability. Hasil prediksi tersebut kemudian ditampilkan dengan jelas kepada pengguna dalam bentuk label yang mudah dipahami seperti “Low”, “Medium”, atau “High”. Aplikasi ini juga dilengkapi dengan validasi input untuk memastikan data yang dimasukkan valid dan sesuai dengan data pelatihan. Dengan demikian, aplikasi berbasis web ini menjadi solusi praktis untuk implementasi model prediksi dalam konteks bisnis restoran, memungkinkan pengambilan keputusan yang lebih cepat dan berbasis data."
   ]
  },
  {
   "cell_type": "code",
   "execution_count": 55,
   "id": "63292660",
   "metadata": {},
   "outputs": [
    {
     "name": "stderr",
     "output_type": "stream",
     "text": [
      "2025-08-09 15:14:50.157 Thread 'MainThread': missing ScriptRunContext! This warning can be ignored when running in bare mode.\n",
      "2025-08-09 15:14:50.159 Thread 'MainThread': missing ScriptRunContext! This warning can be ignored when running in bare mode.\n",
      "2025-08-09 15:14:50.160 Thread 'MainThread': missing ScriptRunContext! This warning can be ignored when running in bare mode.\n",
      "2025-08-09 15:14:50.160 Thread 'MainThread': missing ScriptRunContext! This warning can be ignored when running in bare mode.\n",
      "2025-08-09 15:14:50.162 Thread 'MainThread': missing ScriptRunContext! This warning can be ignored when running in bare mode.\n",
      "2025-08-09 15:14:50.162 Thread 'MainThread': missing ScriptRunContext! This warning can be ignored when running in bare mode.\n",
      "2025-08-09 15:14:50.162 Thread 'MainThread': missing ScriptRunContext! This warning can be ignored when running in bare mode.\n",
      "2025-08-09 15:14:50.163 Thread 'MainThread': missing ScriptRunContext! This warning can be ignored when running in bare mode.\n",
      "2025-08-09 15:14:50.163 Thread 'MainThread': missing ScriptRunContext! This warning can be ignored when running in bare mode.\n",
      "2025-08-09 15:14:50.164 Thread 'MainThread': missing ScriptRunContext! This warning can be ignored when running in bare mode.\n",
      "2025-08-09 15:14:50.164 Thread 'MainThread': missing ScriptRunContext! This warning can be ignored when running in bare mode.\n",
      "2025-08-09 15:14:50.164 Thread 'MainThread': missing ScriptRunContext! This warning can be ignored when running in bare mode.\n",
      "2025-08-09 15:14:50.166 Thread 'MainThread': missing ScriptRunContext! This warning can be ignored when running in bare mode.\n",
      "2025-08-09 15:14:50.166 Thread 'MainThread': missing ScriptRunContext! This warning can be ignored when running in bare mode.\n",
      "2025-08-09 15:14:50.166 Thread 'MainThread': missing ScriptRunContext! This warning can be ignored when running in bare mode.\n",
      "2025-08-09 15:14:50.166 Thread 'MainThread': missing ScriptRunContext! This warning can be ignored when running in bare mode.\n",
      "2025-08-09 15:14:50.166 Thread 'MainThread': missing ScriptRunContext! This warning can be ignored when running in bare mode.\n",
      "2025-08-09 15:14:50.166 Thread 'MainThread': missing ScriptRunContext! This warning can be ignored when running in bare mode.\n",
      "2025-08-09 15:14:50.166 Thread 'MainThread': missing ScriptRunContext! This warning can be ignored when running in bare mode.\n",
      "2025-08-09 15:14:50.166 Thread 'MainThread': missing ScriptRunContext! This warning can be ignored when running in bare mode.\n",
      "2025-08-09 15:14:50.166 Thread 'MainThread': missing ScriptRunContext! This warning can be ignored when running in bare mode.\n",
      "2025-08-09 15:14:50.166 Thread 'MainThread': missing ScriptRunContext! This warning can be ignored when running in bare mode.\n",
      "2025-08-09 15:14:50.170 Thread 'MainThread': missing ScriptRunContext! This warning can be ignored when running in bare mode.\n",
      "2025-08-09 15:14:50.171 Thread 'MainThread': missing ScriptRunContext! This warning can be ignored when running in bare mode.\n",
      "2025-08-09 15:14:50.171 Thread 'MainThread': missing ScriptRunContext! This warning can be ignored when running in bare mode.\n",
      "2025-08-09 15:14:50.171 Thread 'MainThread': missing ScriptRunContext! This warning can be ignored when running in bare mode.\n",
      "2025-08-09 15:14:50.171 Thread 'MainThread': missing ScriptRunContext! This warning can be ignored when running in bare mode.\n",
      "2025-08-09 15:14:50.173 Thread 'MainThread': missing ScriptRunContext! This warning can be ignored when running in bare mode.\n",
      "2025-08-09 15:14:50.173 Thread 'MainThread': missing ScriptRunContext! This warning can be ignored when running in bare mode.\n",
      "2025-08-09 15:14:50.173 Thread 'MainThread': missing ScriptRunContext! This warning can be ignored when running in bare mode.\n",
      "2025-08-09 15:14:50.173 Thread 'MainThread': missing ScriptRunContext! This warning can be ignored when running in bare mode.\n",
      "2025-08-09 15:14:50.175 Thread 'MainThread': missing ScriptRunContext! This warning can be ignored when running in bare mode.\n",
      "2025-08-09 15:14:50.175 Thread 'MainThread': missing ScriptRunContext! This warning can be ignored when running in bare mode.\n"
     ]
    }
   ],
   "source": [
    "import streamlit as st\n",
    "import pandas as pd\n",
    "import pickle\n",
    "\n",
    "# ======== Load Model & Label Encoders ========\n",
    "with open(\"knn_pipeline.pkl\", \"rb\") as f:\n",
    "    model = pickle.load(f)\n",
    "\n",
    "with open(\"label_encoder.pkl\", \"rb\") as f:\n",
    "    label_encoders = pickle.load(f)\n",
    "\n",
    "# ======== Judul Aplikasi ========\n",
    "st.title(\"🍽️ Prediksi Profitability Restoran\")\n",
    "st.write(\"Masukkan detail restoran dan menu untuk memprediksi keuntungan (Low / Medium / High)\")\n",
    "\n",
    "# ======== Form Input ========\n",
    "restaurant_id = st.text_input(\"Restaurant ID\")\n",
    "menu_category = st.text_input(\"Menu Category\")\n",
    "price = st.number_input(\"Price\", min_value=0.0)\n",
    "\n",
    "# ======== Prediksi ========\n",
    "if st.button(\"Prediksi\"):\n",
    "    if restaurant_id and menu_category and price:\n",
    "        # Encode input using label encoders\n",
    "        try:\n",
    "            restaurantid_encoded = label_encoders[\"restaurant\"].transform([restaurant_id.strip()])[0]\n",
    "            menucategory_encoded = label_encoders[\"category\"].transform([menu_category.strip()])[0]\n",
    "        except Exception:\n",
    "            st.error(\"ID atau kategori tidak ditemukan di data pelatihan.\")\n",
    "            st.stop()\n",
    "\n",
    "        # Buat DataFrame sesuai fitur model\n",
    "        new_data = pd.DataFrame({\n",
    "            'restaurantid_encoded': [restaurantid_encoded],\n",
    "            'menucategory_encoded': [menucategory_encoded],\n",
    "            'Price': [price]\n",
    "        })\n",
    "\n",
    "        # Prediksi\n",
    "        pred_encoded = model.predict(new_data)[0]\n",
    "        prediction_label = label_encoders[\"profit\"].inverse_transform([pred_encoded])[0]\n",
    "\n",
    "        st.success(f\"📊 Prediksi Profitability: **{prediction_label}**\")\n",
    "    else:\n",
    "        st.warning(\"⚠️ Mohon isi semua kolom input.\")\n"
   ]
  },
  {
   "cell_type": "markdown",
   "id": "469b4568",
   "metadata": {},
   "source": [
    "## 4.5 Penyimpanan Model dan Komponen Pendukung dengan Joblib\n",
    "Sebagai bagian dari persiapan deployment, model K-Nearest Neighbors (KNN) yang telah dilatih bersama pipeline preprocessing disimpan menggunakan pustaka joblib ke dalam file knn_final_model.joblib. Penyimpanan ini memudahkan proses pemanggilan ulang model secara efisien tanpa harus melatih ulang, serta menjamin konsistensi preprocessing dan prediksi pada data baru. Selain itu, label encoder yang berisi transformasi untuk fitur kategorik dan target juga disimpan secara terpisah dalam file label_encoder.joblib, sehingga proses encoding pada saat deployment dapat dilakukan secara konsisten. Meskipun pipeline sudah mencakup preprocessing, penyimpanan objek preprocessor secara terpisah juga dilakukan sebagai opsi, memungkinkan fleksibilitas bila preprocessing perlu dijalankan sendiri atau dimodifikasi di kemudian hari. Penggunaan joblib untuk serialisasi komponen-komponen ini memberikan kecepatan baca-tulis yang lebih baik dibandingkan metode lain seperti pickle, sehingga sangat cocok untuk kebutuhan produksi dan integrasi model dalam aplikasi."
   ]
  },
  {
   "cell_type": "code",
   "execution_count": 56,
   "id": "09b1f51a",
   "metadata": {},
   "outputs": [
    {
     "name": "stdout",
     "output_type": "stream",
     "text": [
      "✅ Model pipeline disimpan sebagai knn_final_model.joblib\n"
     ]
    },
    {
     "data": {
      "text/plain": [
       "['preprocessor.joblib']"
      ]
     },
     "execution_count": 56,
     "metadata": {},
     "output_type": "execute_result"
    }
   ],
   "source": [
    "import joblib\n",
    "import pickle\n",
    "\n",
    "# Gunakan pipeline yang sudah dilatih di notebook\n",
    "# pipeline: trained KNN pipeline\n",
    "joblib.dump(pipeline, \"knn_final_model.joblib\")\n",
    "print(\"✅ Model pipeline disimpan sebagai knn_final_model.joblib\")\n",
    "\n",
    "# Simpan label encoder\n",
    "joblib.dump(label_encoders, \"label_encoder.joblib\")\n",
    "\n",
    "# Simpan preprocessor jika diperlukan (opsional, sudah include di pipeline)\n",
    "joblib.dump(preprocessor, \"preprocessor.joblib\")\n",
    "\n"
   ]
  },
  {
   "cell_type": "markdown",
   "id": "1b064424",
   "metadata": {},
   "source": [
    "# 5. Documentation and Interpretation\n",
    "Pada bab ini, akan didokumentasikan secara lengkap seluruh rangkaian proses analisis data dan pengembangan model yang telah dilakukan, mulai dari pemilihan dataset, tahap preprocessing, pelatihan model, hingga tahap deployment. Dokumentasi ini disusun secara sistematis dan rinci untuk memastikan bahwa setiap langkah dapat dipahami dengan jelas dan dapat direproduksi oleh pihak lain dengan mudah. Selain itu, dilakukan interpretasi terhadap hasil analisis dan performa model, dengan menyoroti pola-pola penting, kekuatan dan keterbatasan model, serta wawasan bisnis yang diperoleh dari data restoran dan menu. Diskusi ini bertujuan untuk memberikan gambaran yang menyeluruh mengenai nilai praktis dari model yang dikembangkan serta rekomendasi untuk pengembangan lebih lanjut."
   ]
  },
  {
   "cell_type": "markdown",
   "id": "18edb7b4",
   "metadata": {},
   "source": [
    "## 5.1 Step-by-step Deploy Streamlit Application with GitHub and Streamlit Cloud\n",
    "### 1. Membuat Repository di GitHub\n",
    "\n",
    "1. Buka [GitHub](https://github.com) dan login ke akun kamu.\n",
    "2. Klik tombol **New** untuk membuat repository baru.\n",
    "3. Isi detail repository:\n",
    "   - **Repository name**: misalnya `restaurant-profitability-prediction`\n",
    "   - **Description** (opsional)\n",
    "   - Pilih **Public** atau **Private**\n",
    "4. Klik **Create repository**.\n",
    "\n",
    "---\n",
    "\n",
    "### 2. Siapkan Project di Lokal\n",
    "1. Pastikan semua file proyek berada dalam satu folder, contohnya:\n",
    "   - `app.py` (script Streamlit)\n",
    "   - File model: `knn_pipeline.pkl` atau `knn_final_model.joblib`\n",
    "   - File label encoder: `label_encoder.pkl` atau `label_encoder.joblib`\n",
    "   - `requirements.txt` (daftar dependencies)\n",
    "2. Buat file `requirements.txt` dengan isi contoh berikut:\n",
    "    - streamlit\n",
    "    - scikit-learn\n",
    "    - pandas\n",
    "    - numpy\n",
    "    - joblib\n",
    "3. Inisialisasi Git di folder proyek:\n",
    "    ```bash\n",
    "    git init\n",
    "    git add .\n",
    "    git commit -m \"Initial commit - deploy Streamlit app\"\n",
    "\n",
    "---\n",
    "\n",
    "### 3. Deploy ke Streamlit Cloud\n",
    "Kunjungi Streamlit Cloud dan login dengan akun GitHub:\n",
    "- Klik New app.\n",
    "- Pilih repository dan branch yang sudah dibuat.\n",
    "- Isi Main file path dengan nama file utama, misal app.py.\n",
    "- Klik Deploy.\n",
    "- Tunggu proses build selesai dan aplikasi muncul di URL yang diberikan.\n",
    "\n",
    "### 4. Update dan Maintenance\n",
    "Untuk memperbarui aplikasi, lakukan perubahan di lokal, lalu:\n",
    "- git add .\n",
    "- git commit -m \"Update aplikasi\"\n",
    "- git push origin main\n",
    "- Streamlit Cloud akan otomatis rebuild aplikasi setelah push.\n",
    " \n"
   ]
  },
  {
   "cell_type": "markdown",
   "id": "27f9218f",
   "metadata": {},
   "source": [
    "## 5.2 How the KNN Model Works in Profitability Prediction\n",
    "Model K-Nearest Neighbors (KNN) adalah salah satu algoritma klasifikasi yang bekerja berdasarkan prinsip kesamaan atau kemiripan antara data baru dengan data yang sudah ada (data pelatihan). Dalam konteks prediksi profitability restoran dan menu, model KNN akan mengklasifikasikan sebuah data input baru dengan cara mencari sejumlah tetangga terdekat (neighbors) di dalam ruang fitur, berdasarkan fitur-fitur seperti ID restoran, kategori menu, dan harga.\n",
    "\n",
    "Langkah kerja model KNN dalam prediksi adalah sebagai berikut:\n",
    "\n",
    "1. **Pengukuran Jarak**  \n",
    "Model menghitung jarak antara data baru yang ingin diprediksi dengan semua data pada dataset pelatihan. Jarak ini bisa dihitung dengan berbagai metrik, umumnya Euclidean Distance untuk fitur numerik dan hasil encoding untuk fitur kategorik.\n",
    "\n",
    "2. **Pemilihan Tetangga Terdekat**  \n",
    "Setelah jarak dihitung, model memilih k data terdekat (tetangga) berdasarkan nilai jarak terkecil. Nilai k ini sudah dioptimasi melalui proses tuning untuk mendapatkan performa terbaik (misalnya k=5).\n",
    "\n",
    "3. **Voting Kelas**  \n",
    "Model melakukan voting dari kelas target (profitability: Low, Medium, High) yang dimiliki oleh tetangga-tetangga terdekat tersebut. Pada model yang kamu gunakan, voting ini dibobot berdasarkan jarak (dengan bobot distance), artinya tetangga yang lebih dekat memberikan pengaruh lebih besar dibanding yang lebih jauh.\n",
    "\n",
    "4. **Prediksi Kelas**  \n",
    "Kelas dengan jumlah suara terbanyak (atau bobot suara tertinggi) dari tetangga terdekat tersebut ditetapkan sebagai prediksi untuk data baru.\n",
    "\n",
    "Model KNN sangat intuitif dan efektif terutama pada data yang memiliki pola lokal dan fitur yang bisa mengukur kedekatan antar sampel. Dalam kasus restoran dan menu, model ini memanfaatkan kemiripan harga, kategori menu, dan restoran untuk memprediksi apakah sebuah menu akan masuk kategori profitability yang rendah, sedang, atau tinggi.\n",
    "\n",
    "Kelebihan model ini adalah kesederhanaan dan kemampuan adaptasi terhadap data baru tanpa perlu pelatihan ulang yang rumit. Namun, model ini bisa menjadi lambat pada dataset besar karena harus menghitung jarak ke semua sampel."
   ]
  },
  {
   "cell_type": "markdown",
   "id": "89417f8e",
   "metadata": {},
   "source": [
    "# 6. Evaluation\n",
    "\n",
    "Pada bab ini dilakukan evaluasi menyeluruh terhadap performa model yang telah dikembangkan, guna menilai keefektifan dan ketepatan prediksi dalam konteks bisnis restoran. Evaluasi ini mencakup penggunaan metrik klasifikasi utama seperti akurasi, precision, recall, dan F1-score yang memberikan gambaran komprehensif mengenai kemampuan model dalam mengklasifikasikan profitability restoran dan menu.\n",
    "\n",
    "Berdasarkan hasil evaluasi, model K-Nearest Neighbors (KNN) menunjukkan performa terbaik dibandingkan dengan model Decision Tree dan Artificial Neural Network (ANN). Dengan akurasi mencapai 93%, serta nilai precision dan recall yang cukup tinggi, model KNN berhasil menangkap pola distribusi kelas dengan baik, sehingga dapat diandalkan untuk prediksi kategori profitability yang sesuai. Nilai F1-score yang seimbang juga mengindikasikan bahwa model memiliki keseimbangan antara sensitivitas dan presisi, penting untuk menghindari kesalahan klasifikasi yang dapat berdampak pada keputusan bisnis.\n",
    "\n",
    "Selain metrik, evaluasi juga dilakukan menggunakan metode validasi silang (cross-validation) untuk memastikan kestabilan performa model di berbagai subset data. Hasil cross-validation yang konsisten menguatkan kepercayaan bahwa model tidak mengalami overfitting dan mampu melakukan generalisasi dengan baik ke data baru.\n",
    "\n",
    "Meski demikian, terdapat beberapa keterbatasan, seperti potensi penurunan performa pada data dengan fitur yang sangat berbeda atau saat jumlah data baru sangat besar, mengingat KNN termasuk algoritma berbasis instance yang memerlukan komputasi jarak pada seluruh data pelatihan.\n",
    "\n",
    "Evaluasi ini menjadi dasar untuk perbaikan model lebih lanjut dan memberikan gambaran yang jelas bagi pengambil keputusan dalam menggunakan model untuk meningkatkan keuntungan dan efisiensi operasional restoran.\n"
   ]
  }
 ],
 "metadata": {
  "kernelspec": {
   "display_name": "Python 3",
   "language": "python",
   "name": "python3"
  },
  "language_info": {
   "codemirror_mode": {
    "name": "ipython",
    "version": 3
   },
   "file_extension": ".py",
   "mimetype": "text/x-python",
   "name": "python",
   "nbconvert_exporter": "python",
   "pygments_lexer": "ipython3",
   "version": "3.11.9"
  }
 },
 "nbformat": 4,
 "nbformat_minor": 5
}
